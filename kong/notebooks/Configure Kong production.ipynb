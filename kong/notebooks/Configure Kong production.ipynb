{
 "cells": [
  {
   "cell_type": "code",
   "execution_count": 2,
   "metadata": {},
   "outputs": [],
   "source": [
    "import requests"
   ]
  },
  {
   "cell_type": "code",
   "execution_count": 122,
   "metadata": {},
   "outputs": [],
   "source": [
    "BACKEND_HOST_IP=\"10.74.4.25\"\n",
    "KONG_URL=\"http://localhost:8001\"\n",
    "BACKEND_URI=\"http://10.74.4.25:5000/api\"\n",
    "FRONTEND_URI=\"http://10.74.4.25:4000/\"\n",
    "AUTH_URI=\"http://10.65.98.41:8080/\"\n",
    "\n",
    "KONG_CLIENT_ID=\"kong\"\n",
    "KONG_CLIENT_SECRET=\"7af12c9d-47b1-4a53-91ac-9acf49b704ef\"\n",
    "REALM_NAME=\"enki\""
   ]
  },
  {
   "cell_type": "code",
   "execution_count": 123,
   "metadata": {},
   "outputs": [],
   "source": [
    "KEYCLOAK_URL = \"https://auth.enki.nexsis112.fr\""
   ]
  },
  {
   "cell_type": "code",
   "execution_count": 124,
   "metadata": {},
   "outputs": [],
   "source": [
    "introspection_url = f'{KEYCLOAK_URL}/auth/realms/{REALM_NAME}/protocol/openid-connect/token/introspect'\n",
    "discovery_url = f'{KEYCLOAK_URL}/auth/realms/{REALM_NAME}/.well-known/openid-configuration'\n"
   ]
  },
  {
   "cell_type": "code",
   "execution_count": 125,
   "metadata": {},
   "outputs": [
    {
     "data": {
      "text/plain": [
       "'https://auth.enki.nexsis112.fr/auth/realms/enki/.well-known/openid-configuration'"
      ]
     },
     "execution_count": 125,
     "metadata": {},
     "output_type": "execute_result"
    }
   ],
   "source": [
    "discovery_url"
   ]
  },
  {
   "cell_type": "code",
   "execution_count": 126,
   "metadata": {},
   "outputs": [],
   "source": [
    "services = [\n",
    "    {\n",
    "        'name': \"enki_api\",\n",
    "        'url': BACKEND_URI,\n",
    "\n",
    "        \"routes\":[\n",
    "            {\n",
    "                \"path\": '/api',\n",
    "                'auth':'oidc'\n",
    "            }, \n",
    "            {\n",
    "                'path':'/echanges', \n",
    "                'auth':'api_key'\n",
    "            }\n",
    "        ]\n",
    "    },\n",
    "        {\n",
    "        'name': \"enki_front\",\n",
    "        'url': FRONTEND_URI,\n",
    "        'routes':[\n",
    "             {         \n",
    "                'path': '/',\n",
    "                \"auth\":\"oidc\"\n",
    "             }   \n",
    "        ]\n",
    "    }\n",
    "]"
   ]
  },
  {
   "cell_type": "code",
   "execution_count": 127,
   "metadata": {},
   "outputs": [],
   "source": [
    "response = requests.get(f'{KONG_URL}/routes')\n",
    "for _id in [e[\"id\"] for e in response.json()[\"data\"]]:\n",
    "    requests.delete(f'{KONG_URL}/routes/{_id}')\n",
    "response = requests.get(f'{KONG_URL}/services')\n",
    "for _id in [e[\"id\"] for e in response.json()[\"data\"]]:\n",
    "    requests.delete(f'{KONG_URL}/services/{_id}')"
   ]
  },
  {
   "cell_type": "code",
   "execution_count": 128,
   "metadata": {},
   "outputs": [],
   "source": [
    "apikey = \"my-api-key\""
   ]
  },
  {
   "cell_type": "code",
   "execution_count": 129,
   "metadata": {},
   "outputs": [
    {
     "name": "stdout",
     "output_type": "stream",
     "text": [
      "{'host': '10.74.4.25', 'id': '9e113d65-f776-469a-86d4-a02412adebc7', 'protocol': 'http', 'read_timeout': 60000, 'tls_verify_depth': None, 'port': 5000, 'updated_at': 1619018596, 'ca_certificates': None, 'created_at': 1619018596, 'connect_timeout': 60000, 'write_timeout': 60000, 'name': 'enki_api', 'retries': 5, 'path': '/api', 'tls_verify': None, 'tags': None, 'client_certificate': None}\n",
      "409\n",
      "{'message': 'UNIQUE violation detected on \\'{username=\"sge-hub\"}\\'', 'name': 'unique constraint violation', 'fields': {'username': 'sge-hub'}, 'code': 5}\n",
      "409\n",
      "{'host': '10.74.4.25', 'id': 'd5ed9277-26b6-48ea-bc8e-93d96ffb2c58', 'protocol': 'http', 'read_timeout': 60000, 'tls_verify_depth': None, 'port': 4000, 'updated_at': 1619018597, 'ca_certificates': None, 'created_at': 1619018597, 'connect_timeout': 60000, 'write_timeout': 60000, 'name': 'enki_front', 'retries': 5, 'path': '/', 'tls_verify': None, 'tags': None, 'client_certificate': None}\n"
     ]
    }
   ],
   "source": [
    "for service in services : \n",
    "    response = requests.post(f'{KONG_URL}/services', data={\n",
    "        'name': service[\"name\"],\n",
    "        'url': service[\"url\"]\n",
    "    })\n",
    "    print(response.json())\n",
    "    created_service_id = response.json()[\"id\"]\n",
    "    for route in service[\"routes\"]:\n",
    "        response = requests.post(f'{KONG_URL}/services/{service[\"name\"]}/routes', data={\n",
    "            'service.id': created_service_id,\n",
    "            'paths[]':route[\"path\"],\n",
    "        })\n",
    "        route_id = response.json()[\"id\"]\n",
    "        auth_type=route.get(\"auth\")\n",
    "        if auth_type == \"api_key\":\n",
    "            response = requests.post(f'{KONG_URL}/routes/{route_id}/plugins', data={\n",
    "                'name': \"key-auth\",\n",
    "                'config.key_names': \"x-api-key\",\n",
    "            })\n",
    "            response = requests.post(f'{KONG_URL}/consumers', data={\n",
    "                'username': \"sge-hub\",\n",
    "            })\n",
    "            print(response.status_code)  \n",
    "            print(response.json())\n",
    "            response = requests.post(f'{KONG_URL}/consumers/sge-hub/key-auth', data={\n",
    "                    'key': apikey,\n",
    "                })\n",
    "            print(response.status_code)\n",
    "        elif auth_type == \"oidc\":\n",
    "            data = {\n",
    "                    'name': 'oidc',\n",
    "                    'config.client_id': f'{KONG_CLIENT_ID}',\n",
    "                    'config.client_secret': f'{KONG_CLIENT_SECRET}',\n",
    "                    'config.realm': f'{REALM_NAME}',\n",
    "                    'config.bearer_only': 'false',\n",
    "                    'config.introspection_endpoint': introspection_url,\n",
    "                    'config.discovery': discovery_url\n",
    "            }\n",
    "\n",
    "            response = requests.post(f'{KONG_URL}/services/{created_service_id}/plugins', data=data)\n",
    "        else:\n",
    "            pass"
   ]
  },
  {
   "cell_type": "code",
   "execution_count": 130,
   "metadata": {},
   "outputs": [
    {
     "data": {
      "text/plain": [
       "{'config': {'bearer_only': 'false',\n",
       "  'client_id': 'kong',\n",
       "  'client_secret': '7af12c9d-47b1-4a53-91ac-9acf49b704ef',\n",
       "  'discovery': 'https://auth.enki.nexsis112.fr/auth/realms/enki/.well-known/openid-configuration',\n",
       "  'filters': None,\n",
       "  'introspection_endpoint': 'https://auth.enki.nexsis112.fr/auth/realms/enki/protocol/openid-connect/token/introspect',\n",
       "  'introspection_endpoint_auth_method': None,\n",
       "  'logout_path': '/logout',\n",
       "  'realm': 'enki',\n",
       "  'recovery_page_path': None,\n",
       "  'redirect_after_logout_uri': '/',\n",
       "  'redirect_uri_path': None,\n",
       "  'response_type': 'code',\n",
       "  'scope': 'openid',\n",
       "  'session_secret': None,\n",
       "  'ssl_verify': 'no',\n",
       "  'token_endpoint_auth_method': 'client_secret_post'},\n",
       " 'consumer': None,\n",
       " 'created_at': 1619018597,\n",
       " 'enabled': True,\n",
       " 'id': '983c114e-11e4-4733-b59c-4952732fb21b',\n",
       " 'name': 'oidc',\n",
       " 'protocols': ['grpc', 'grpcs', 'http', 'https'],\n",
       " 'route': None,\n",
       " 'service': {'id': 'd5ed9277-26b6-48ea-bc8e-93d96ffb2c58'},\n",
       " 'tags': None}"
      ]
     },
     "execution_count": 130,
     "metadata": {},
     "output_type": "execute_result"
    }
   ],
   "source": [
    "response.json()"
   ]
  },
  {
   "cell_type": "code",
   "execution_count": null,
   "metadata": {},
   "outputs": [],
   "source": []
  }
 ],
 "metadata": {
  "kernelspec": {
   "display_name": "Python 3",
   "language": "python",
   "name": "python3"
  },
  "language_info": {
   "codemirror_mode": {
    "name": "ipython",
    "version": 3
   },
   "file_extension": ".py",
   "mimetype": "text/x-python",
   "name": "python",
   "nbconvert_exporter": "python",
   "pygments_lexer": "ipython3",
   "version": "3.6.10"
  }
 },
 "nbformat": 4,
 "nbformat_minor": 2
}
