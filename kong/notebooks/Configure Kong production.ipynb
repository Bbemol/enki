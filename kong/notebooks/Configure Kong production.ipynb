{
 "cells": [
  {
   "cell_type": "code",
   "execution_count": 4,
   "metadata": {},
   "outputs": [],
   "source": [
    "import requests"
   ]
  },
  {
   "cell_type": "code",
   "execution_count": 16,
   "metadata": {},
   "outputs": [],
   "source": [
    "BACKEND_HOST_IP=\"10.74.4.25\"\n",
    "KONG_URL=\"http://163.172.181.83:443/config\"\n",
    "BACKEND_URI=\"http://10.74.4.25:5000/\"\n",
    "FRONTEND_URI=\"http://10.74.4.25:4000/\""
   ]
  },
  {
   "cell_type": "code",
   "execution_count": 47,
   "metadata": {},
   "outputs": [],
   "source": [
    "services = [\n",
    "    {\n",
    "        'name': \"enki_api\",\n",
    "        'url': BACKEND_URI,\n",
    "        'path': '/api/enki',\n",
    "\n",
    "    },\n",
    "        {\n",
    "        'name': \"enki_ront\",\n",
    "        'url': FRONTEND_URI,\n",
    "        'path': '/enki'\n",
    "\n",
    "    }\n",
    "]"
   ]
  },
  {
   "cell_type": "code",
   "execution_count": 48,
   "metadata": {},
   "outputs": [],
   "source": [
    "response = requests.get(f'{KONG_URL}/routes')\n",
    "for _id in [e[\"id\"] for e in response.json()[\"data\"]]:\n",
    "    requests.delete(f'{KONG_URL}/routes/{_id}')\n",
    "response = requests.get(f'{KONG_URL}/services')\n",
    "for _id in [e[\"id\"] for e in response.json()[\"data\"]]:\n",
    "    requests.delete(f'{KONG_URL}/services/{_id}')"
   ]
  },
  {
   "cell_type": "code",
   "execution_count": 49,
   "metadata": {},
   "outputs": [],
   "source": [
    "for service in services : \n",
    "    response = requests.post(f'{KONG_URL}/services', data={\n",
    "        'name': service[\"name\"],\n",
    "        'url': service[\"url\"]\n",
    "    })\n",
    "    created_service_id = response.json()[\"id\"]\n",
    "    data = {\n",
    "        'service.id': created_service_id,\n",
    "        'paths[]':service[\"path\"],\n",
    "    }\n",
    "    response = requests.post(f'{KONG_URL}/services/{service[\"name\"]}/routes', data=data)\n"
   ]
  },
  {
   "cell_type": "code",
   "execution_count": 43,
   "metadata": {},
   "outputs": [
    {
     "data": {
      "text/plain": [
       "{'created_at': 1618308291,\n",
       " 'destinations': None,\n",
       " 'headers': None,\n",
       " 'hosts': None,\n",
       " 'https_redirect_status_code': 426,\n",
       " 'id': '56ac6bec-b45f-4fae-81fb-59bc54c200df',\n",
       " 'methods': None,\n",
       " 'name': None,\n",
       " 'path_handling': 'v0',\n",
       " 'paths': ['/api/enki'],\n",
       " 'preserve_host': False,\n",
       " 'protocols': ['http', 'https'],\n",
       " 'regex_priority': 0,\n",
       " 'request_buffering': True,\n",
       " 'response_buffering': True,\n",
       " 'service': {'id': '858d81c9-11b4-4746-a870-d86e92a37325'},\n",
       " 'snis': None,\n",
       " 'sources': None,\n",
       " 'strip_path': True,\n",
       " 'tags': None,\n",
       " 'updated_at': 1618308291}"
      ]
     },
     "execution_count": 43,
     "metadata": {},
     "output_type": "execute_result"
    }
   ],
   "source": [
    "response.json()"
   ]
  },
  {
   "cell_type": "code",
   "execution_count": null,
   "metadata": {},
   "outputs": [],
   "source": []
  }
 ],
 "metadata": {
  "kernelspec": {
   "display_name": "Python 3",
   "language": "python",
   "name": "python3"
  },
  "language_info": {
   "codemirror_mode": {
    "name": "ipython",
    "version": 3
   },
   "file_extension": ".py",
   "mimetype": "text/x-python",
   "name": "python",
   "nbconvert_exporter": "python",
   "pygments_lexer": "ipython3",
   "version": "3.6.10"
  }
 },
 "nbformat": 4,
 "nbformat_minor": 2
}
