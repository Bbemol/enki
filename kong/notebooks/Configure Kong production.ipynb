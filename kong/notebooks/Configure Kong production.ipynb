{
 "cells": [
  {
   "cell_type": "code",
   "execution_count": 2,
   "metadata": {},
   "outputs": [],
   "source": [
    "import requests"
   ]
  },
  {
   "cell_type": "code",
   "execution_count": 7,
   "metadata": {},
   "outputs": [],
   "source": [
    "BACKEND_HOST_IP=\"10.74.4.25\"\n",
    "KONG_URL=\"http://163.172.181.83:443/config\"\n",
    "BACKEND_URI=\"http://10.74.4.25:5000/\"\n",
    "FRONTEND_URI=\"http://10.74.4.25:4000/\""
   ]
  },
  {
   "cell_type": "code",
   "execution_count": 8,
   "metadata": {},
   "outputs": [],
   "source": [
    "services = [\n",
    "    {\n",
    "        'name': \"enki_api\",\n",
    "        'url': BACKEND_URI,\n",
    "        'path': '/api/enki',\n",
    "        \"auth\":\"oidc\"\n",
    "    },\n",
    "        {\n",
    "        'name': \"enki_front\",\n",
    "        'url': FRONTEND_URI,\n",
    "        'path': '/enki',\n",
    "        \"auth\":\"oidc\"\n",
    "    },\n",
    "    {\n",
    "        'name': \"enki_echange\",\n",
    "        'url': FRONTEND_URI,\n",
    "        'path': '/enki',\n",
    "        \"auth\":\"api_key\"\n",
    "    }\n",
    "]"
   ]
  },
  {
   "cell_type": "code",
   "execution_count": 17,
   "metadata": {},
   "outputs": [],
   "source": [
    "response = requests.get(f'{KONG_URL}/routes')\n",
    "for _id in [e[\"id\"] for e in response.json()[\"data\"]]:\n",
    "    requests.delete(f'{KONG_URL}/routes/{_id}')\n",
    "response = requests.get(f'{KONG_URL}/services')\n",
    "for _id in [e[\"id\"] for e in response.json()[\"data\"]]:\n",
    "    requests.delete(f'{KONG_URL}/services/{_id}')"
   ]
  },
  {
   "cell_type": "code",
   "execution_count": 18,
   "metadata": {},
   "outputs": [],
   "source": [
    "apikey = \"my-api-key\""
   ]
  },
  {
   "cell_type": "code",
   "execution_count": 19,
   "metadata": {},
   "outputs": [],
   "source": [
    "for service in services : \n",
    "    response = requests.post(f'{KONG_URL}/services', data={\n",
    "        'name': service[\"name\"],\n",
    "        'url': service[\"url\"]\n",
    "    })\n",
    "    created_service_id = response.json()[\"id\"]\n",
    "    response = requests.post(f'{KONG_URL}/services/{service[\"name\"]}/routes', data={\n",
    "        'service.id': created_service_id,\n",
    "        'paths[]':service[\"path\"],\n",
    "    })\n",
    "    route_id = response.json()[\"id\"]\n",
    "    if service[\"auth\"] == \"api_key\":\n",
    "        response = requests.post(f'{KONG_URL}/routes/{route_id}/plugins', data={\n",
    "            'name': \"key-auth\",\n",
    "            'config.key_names': apikey,\n",
    "        })\n",
    "    elif service[\"auth\"] == \"oidc\":\n",
    "        pass"
   ]
  },
  {
   "cell_type": "code",
   "execution_count": 20,
   "metadata": {},
   "outputs": [
    {
     "data": {
      "text/plain": [
       "{'config': {'anonymous': None,\n",
       "  'hide_credentials': False,\n",
       "  'key_in_body': False,\n",
       "  'key_in_header': True,\n",
       "  'key_in_query': True,\n",
       "  'key_names': ['my-api-key'],\n",
       "  'run_on_preflight': True},\n",
       " 'consumer': None,\n",
       " 'created_at': 1618586278,\n",
       " 'enabled': True,\n",
       " 'id': 'dfe95a15-c221-4a31-9e14-b6febd2b35f8',\n",
       " 'name': 'key-auth',\n",
       " 'protocols': ['grpc', 'grpcs', 'http', 'https'],\n",
       " 'route': {'id': '4bdb34e5-da50-4cb3-a0a7-41a9ec481962'},\n",
       " 'service': None,\n",
       " 'tags': None}"
      ]
     },
     "execution_count": 20,
     "metadata": {},
     "output_type": "execute_result"
    }
   ],
   "source": [
    "response.json()"
   ]
  },
  {
   "cell_type": "code",
   "execution_count": null,
   "metadata": {},
   "outputs": [],
   "source": []
  }
 ],
 "metadata": {
  "kernelspec": {
   "display_name": "Python 3",
   "language": "python",
   "name": "python3"
  },
  "language_info": {
   "codemirror_mode": {
    "name": "ipython",
    "version": 3
   },
   "file_extension": ".py",
   "mimetype": "text/x-python",
   "name": "python",
   "nbconvert_exporter": "python",
   "pygments_lexer": "ipython3",
   "version": "3.6.10"
  }
 },
 "nbformat": 4,
 "nbformat_minor": 2
}
