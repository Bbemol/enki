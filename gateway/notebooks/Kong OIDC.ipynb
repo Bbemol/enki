{
 "cells": [
  {
   "cell_type": "code",
   "execution_count": 53,
   "metadata": {},
   "outputs": [],
   "source": [
    "import requests"
   ]
  },
  {
   "cell_type": "code",
   "execution_count": 105,
   "metadata": {},
   "outputs": [],
   "source": [
    "BACKEND_HOST_IP = \"sapeurs-api\"\n",
    "KONG_HOST_IP = \"localhost\"\n",
    "KONG_PORT = \"8001\"\n",
    "KEYCLOAK_HOST_IP = \"keycloak\"\n",
    "KEYCLOAK_PORT = \"8080\"\n",
    "\n",
    "BACKEND_URI = f\"http://{BACKEND_HOST_IP}:5000/api/enki/\"\n",
    "CLIENT_ID=\"kong\"\n",
    "CLIENT_SECRET=\"268711f3-b216-4580-bc24-8ba0082590c8\""
   ]
  },
  {
   "cell_type": "markdown",
   "metadata": {},
   "source": [
    "# Add Service API \n"
   ]
  },
  {
   "cell_type": "code",
   "execution_count": 106,
   "metadata": {},
   "outputs": [],
   "source": [
    "data = {\n",
    "  'name': 'enki_api',\n",
    "  'url': f'{BACKEND_URI}'\n",
    "}\n",
    "\n",
    "response = requests.post(f'http://{KONG_HOST_IP}:{KONG_PORT}/services', data=data)"
   ]
  },
  {
   "cell_type": "code",
   "execution_count": 107,
   "metadata": {},
   "outputs": [
    {
     "data": {
      "text/plain": [
       "{'connect_timeout': 60000,\n",
       " 'created_at': 1605264885,\n",
       " 'host': 'sapeurs-api',\n",
       " 'id': 'f8bd5f54-87f9-4010-b4e8-dcde782f0f69',\n",
       " 'name': 'enki_api',\n",
       " 'path': '/api/enki/',\n",
       " 'port': 5000,\n",
       " 'protocol': 'http',\n",
       " 'read_timeout': 60000,\n",
       " 'retries': 5,\n",
       " 'updated_at': 1605264885,\n",
       " 'write_timeout': 60000}"
      ]
     },
     "execution_count": 107,
     "metadata": {},
     "output_type": "execute_result"
    }
   ],
   "source": [
    "response.json()"
   ]
  },
  {
   "cell_type": "code",
   "execution_count": 108,
   "metadata": {},
   "outputs": [],
   "source": [
    "created_service_id = response.json()[\"id\"]"
   ]
  },
  {
   "cell_type": "markdown",
   "metadata": {},
   "source": [
    "# Add routes path"
   ]
  },
  {
   "cell_type": "code",
   "execution_count": 109,
   "metadata": {},
   "outputs": [],
   "source": [
    "import requests\n",
    "\n",
    "data = {\n",
    "  'service.id': f'{created_service_id}',\n",
    "  'paths[]': '/enki', \n",
    "}\n",
    "\n",
    "response = requests.post(f'http://{KONG_HOST_IP}:{KONG_PORT}/services/enki_api/routes', data=data)"
   ]
  },
  {
   "cell_type": "code",
   "execution_count": 110,
   "metadata": {},
   "outputs": [
    {
     "data": {
      "text/plain": [
       "{'created_at': 1605264888,\n",
       " 'hosts': None,\n",
       " 'id': 'b94e32ff-e59d-4004-bc18-b4f3eb1b9078',\n",
       " 'methods': None,\n",
       " 'paths': ['/enki'],\n",
       " 'preserve_host': False,\n",
       " 'protocols': ['http', 'https'],\n",
       " 'regex_priority': 0,\n",
       " 'service': {'id': 'f8bd5f54-87f9-4010-b4e8-dcde782f0f69'},\n",
       " 'strip_path': True,\n",
       " 'updated_at': 1605264888}"
      ]
     },
     "execution_count": 110,
     "metadata": {},
     "output_type": "execute_result"
    }
   ],
   "source": [
    "response.json()"
   ]
  },
  {
   "cell_type": "code",
   "execution_count": 111,
   "metadata": {},
   "outputs": [
    {
     "data": {
      "text/plain": [
       "{'data': [{'connect_timeout': 60000,\n",
       "   'created_at': 1605264885,\n",
       "   'host': 'sapeurs-api',\n",
       "   'id': 'f8bd5f54-87f9-4010-b4e8-dcde782f0f69',\n",
       "   'name': 'enki_api',\n",
       "   'path': '/api/enki/',\n",
       "   'port': 5000,\n",
       "   'protocol': 'http',\n",
       "   'read_timeout': 60000,\n",
       "   'retries': 5,\n",
       "   'updated_at': 1605264885,\n",
       "   'write_timeout': 60000}],\n",
       " 'next': None}"
      ]
     },
     "execution_count": 111,
     "metadata": {},
     "output_type": "execute_result"
    }
   ],
   "source": [
    "requests.get(f'http://{KONG_HOST_IP}:8001/services').json()"
   ]
  },
  {
   "cell_type": "markdown",
   "metadata": {},
   "source": [
    "# Configure OIDC Plugin"
   ]
  },
  {
   "cell_type": "code",
   "execution_count": 112,
   "metadata": {},
   "outputs": [],
   "source": [
    "data = {\n",
    "  'name': 'oidc',\n",
    "  'config.client_id': f'{CLIENT_ID}',\n",
    "  'config.client_secret': f'{CLIENT_SECRET}',\n",
    "  'config.discovery': f'http://{KEYCLOAK_HOST_IP}:{KEYCLOAK_PORT}/auth/realms/enki/.well-known/openid-configuration'\n",
    "}\n",
    "\n",
    "response = requests.post(f'http://{KONG_HOST_IP}:{KONG_PORT}/plugins', data=data)\n"
   ]
  },
  {
   "cell_type": "code",
   "execution_count": 113,
   "metadata": {},
   "outputs": [
    {
     "data": {
      "text/plain": [
       "{'config': {'bearer_only': 'no',\n",
       "  'client_id': 'kong',\n",
       "  'client_secret': '268711f3-b216-4580-bc24-8ba0082590c8',\n",
       "  'discovery': 'http://keycloak:8080/auth/realms/enki/.well-known/openid-configuration',\n",
       "  'logout_path': '/logout',\n",
       "  'realm': 'kong',\n",
       "  'redirect_after_logout_uri': '/',\n",
       "  'response_type': 'code',\n",
       "  'scope': 'openid',\n",
       "  'ssl_verify': 'no',\n",
       "  'token_endpoint_auth_method': 'client_secret_post'},\n",
       " 'created_at': 1605264893000,\n",
       " 'enabled': True,\n",
       " 'id': '526a5bd2-7623-4a8b-bc71-c73952a4113a',\n",
       " 'name': 'oidc'}"
      ]
     },
     "execution_count": 113,
     "metadata": {},
     "output_type": "execute_result"
    }
   ],
   "source": [
    "response.json()"
   ]
  },
  {
   "cell_type": "code",
   "execution_count": null,
   "metadata": {},
   "outputs": [],
   "source": []
  }
 ],
 "metadata": {
  "kernelspec": {
   "display_name": "Python 3",
   "language": "python",
   "name": "python3"
  },
  "language_info": {
   "codemirror_mode": {
    "name": "ipython",
    "version": 3
   },
   "file_extension": ".py",
   "mimetype": "text/x-python",
   "name": "python",
   "nbconvert_exporter": "python",
   "pygments_lexer": "ipython3",
   "version": "3.6.10"
  }
 },
 "nbformat": 4,
 "nbformat_minor": 2
}
