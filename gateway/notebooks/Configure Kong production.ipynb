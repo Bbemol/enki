{
 "cells": [
  {
   "cell_type": "code",
   "execution_count": 2,
   "metadata": {},
   "outputs": [],
   "source": [
    "import requests"
   ]
  },
  {
   "cell_type": "code",
   "execution_count": 225,
   "metadata": {},
   "outputs": [],
   "source": [
    "BACKEND_HOST_IP=\"10.74.4.25\"\n",
    "KONG_URL=\"http://localhost:8001\"\n",
    "BACKEND_URI=\"http://10.74.4.25:5000/api\"\n",
    "FRONTEND_URI=\"http://10.74.4.25:4000/\"\n",
    "FRONTEND_TEST_URI=\"http://10.74.4.25:4000/test\"\n",
    "AUTH_URI=\"http://10.65.98.41:8080/\"\n",
    "\n",
    "KONG_CLIENT_ID=\"kong\"\n",
    "KONG_CLIENT_SECRET=\"7af12c9d-47b1-4a53-91ac-9acf49b704ef\"\n",
    "REALM_NAME=\"enki\"\n",
    "SGE_API_KEY = \"e86366d6-8ae7-42e5-99b1-cdd04cc9b5b7\""
   ]
  },
  {
   "cell_type": "code",
   "execution_count": 226,
   "metadata": {},
   "outputs": [],
   "source": [
    "KEYCLOAK_URL = \"https://auth.enki.nexsis112.fr\""
   ]
  },
  {
   "cell_type": "code",
   "execution_count": 227,
   "metadata": {},
   "outputs": [],
   "source": [
    "introspection_url = f'{KEYCLOAK_URL}/auth/realms/{REALM_NAME}/protocol/openid-connect/token/introspect'\n",
    "discovery_url = f'{KEYCLOAK_URL}/auth/realms/{REALM_NAME}/.well-known/openid-configuration'\n"
   ]
  },
  {
   "cell_type": "code",
   "execution_count": 228,
   "metadata": {},
   "outputs": [
    {
     "data": {
      "text/plain": [
       "'https://auth.enki.nexsis112.fr/auth/realms/enki/.well-known/openid-configuration'"
      ]
     },
     "execution_count": 228,
     "metadata": {},
     "output_type": "execute_result"
    }
   ],
   "source": [
    "discovery_url"
   ]
  },
  {
   "cell_type": "code",
   "execution_count": 229,
   "metadata": {},
   "outputs": [],
   "source": [
    "services = [\n",
    "    {\n",
    "        'name': \"enki_api\",\n",
    "        'url': BACKEND_URI,\n",
    "\n",
    "        \"routes\":[\n",
    "            {\n",
    "                \"path\": '/api',\n",
    "                'auth':'oidc'\n",
    "            }, \n",
    "            {\n",
    "                'path':'/echanges', \n",
    "                'auth':'api_key'\n",
    "            }\n",
    "        ]\n",
    "    },\n",
    "        {\n",
    "        'name': \"enki_front\",\n",
    "        'url': FRONTEND_URI,\n",
    "        'routes':[\n",
    "             {         \n",
    "                'path': '/',\n",
    "                \"auth\":\"oidc\"\n",
    "             }, \n",
    "        ]\n",
    "    },\n",
    "    {\n",
    "        'name': \"enki_front_test\",\n",
    "        'url': FRONTEND_TEST_URI,\n",
    "        'routes':[\n",
    "             {         \n",
    "                'path': '/test',\n",
    "             }, \n",
    "        ]\n",
    "    }\n",
    "]"
   ]
  },
  {
   "cell_type": "code",
   "execution_count": 233,
   "metadata": {},
   "outputs": [],
   "source": [
    "response = requests.get(f'{KONG_URL}/routes')\n",
    "for _id in [e[\"id\"] for e in response.json()[\"data\"]]:\n",
    "    requests.delete(f'{KONG_URL}/routes/{_id}')\n",
    "response = requests.get(f'{KONG_URL}/services')\n",
    "for _id in [e[\"id\"] for e in response.json()[\"data\"]]:\n",
    "    requests.delete(f'{KONG_URL}/services/{_id}')"
   ]
  },
  {
   "cell_type": "code",
   "execution_count": 234,
   "metadata": {},
   "outputs": [
    {
     "name": "stdout",
     "output_type": "stream",
     "text": [
      "Start configuring enki_api\n",
      "configuring route /api... with oidc\n",
      "configuring route /echanges... with api_key\n",
      "Start configuring enki_front\n",
      "configuring route /... with oidc\n",
      "Start configuring enki_front_test\n",
      "configuring route /test... with None\n",
      "No oidc\n"
     ]
    }
   ],
   "source": [
    "for service in services : \n",
    "    print(f\"Start configuring {service['name']}\")\n",
    "    response = requests.post(f'{KONG_URL}/services', data={\n",
    "        'name': service[\"name\"],\n",
    "        'url': service[\"url\"]\n",
    "    })\n",
    "    created_service_id = response.json()[\"id\"]\n",
    "    for route in service[\"routes\"]:\n",
    "        auth_type=route.get(\"auth\")\n",
    "\n",
    "        print(f\"configuring route {route['path']}... with {auth_type}\")\n",
    "        response = requests.post(f'{KONG_URL}/services/{service[\"name\"]}/routes', data={\n",
    "            'service.id': created_service_id,\n",
    "            'paths[]':route[\"path\"],\n",
    "        })\n",
    "        route_id = response.json()[\"id\"]\n",
    "        \n",
    "        if auth_type == \"api_key\":\n",
    "            response = requests.post(f'{KONG_URL}/routes/{route_id}/plugins', data={\n",
    "                'name': \"key-auth\",\n",
    "                'config.key_names': \"x-api-key\",\n",
    "            })\n",
    "            response = requests.post(f'{KONG_URL}/consumers', data={\n",
    "                'username': \"sge-hub\",\n",
    "            })\n",
    "            response = requests.post(f'{KONG_URL}/consumers/sge-hub/key-auth', data={\n",
    "                    'key': apikey,\n",
    "                })\n",
    "\n",
    "        elif auth_type == \"oidc\":\n",
    "            data = {\n",
    "                    'name': 'oidc',\n",
    "                    'config.client_id': f'{KONG_CLIENT_ID}',\n",
    "                    'config.client_secret': f'{KONG_CLIENT_SECRET}',\n",
    "                    'config.realm': f'{REALM_NAME}',\n",
    "                    'config.bearer_only': 'false',\n",
    "                    'config.introspection_endpoint': introspection_url,\n",
    "                    'config.discovery': discovery_url\n",
    "            }\n",
    "\n",
    "            response = requests.post(f'{KONG_URL}/routes/{route_id}/plugins', data=data)\n",
    "        else:\n",
    "            print(\"No oidc\")\n",
    "            pass"
   ]
  },
  {
   "cell_type": "code",
   "execution_count": 214,
   "metadata": {},
   "outputs": [
    {
     "data": {
      "text/plain": [
       "{'message': 'Not found'}"
      ]
     },
     "execution_count": 214,
     "metadata": {},
     "output_type": "execute_result"
    }
   ],
   "source": [
    "response.json()"
   ]
  },
  {
   "cell_type": "code",
   "execution_count": null,
   "metadata": {},
   "outputs": [],
   "source": []
  }
 ],
 "metadata": {
  "kernelspec": {
   "display_name": "Python 3",
   "language": "python",
   "name": "python3"
  },
  "language_info": {
   "codemirror_mode": {
    "name": "ipython",
    "version": 3
   },
   "file_extension": ".py",
   "mimetype": "text/x-python",
   "name": "python",
   "nbconvert_exporter": "python",
   "pygments_lexer": "ipython3",
   "version": "3.6.10"
  }
 },
 "nbformat": 4,
 "nbformat_minor": 2
}
