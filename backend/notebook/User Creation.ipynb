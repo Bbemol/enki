{
 "cells": [
  {
   "cell_type": "code",
   "execution_count": 10,
   "metadata": {},
   "outputs": [],
   "source": [
    "from keycloak import KeycloakAdmin\n",
    "\n",
    "keycloak_admin = KeycloakAdmin(server_url=\"http://localhost:8080/auth/\",\n",
    "                           username='admin',\n",
    "                           password='Pa55w0rd',\n",
    "\n",
    "                           verify=True)\n",
    "\n",
    "keycloak_admin.realm_name = \"enki\"\n"
   ]
  },
  {
   "cell_type": "code",
   "execution_count": 11,
   "metadata": {},
   "outputs": [],
   "source": [
    "email = \"r.courivaud@gmail.com\""
   ]
  },
  {
   "cell_type": "code",
   "execution_count": null,
   "metadata": {},
   "outputs": [],
   "source": [
    "def create_invitation_from_email(email: str):\n",
    "    pass\n",
    "\n",
    "def create_invitation_token():\n",
    "    "
   ]
  },
  {
   "cell_type": "code",
   "execution_count": 12,
   "metadata": {},
   "outputs": [],
   "source": [
    "                       \n",
    "new_user = keycloak_admin.create_user({\"email\": email,\n",
    "                \"username\": email,\n",
    "                \"enabled\": True,\n",
    "                \"requiredActions\": [\"UPDATE_PASSWORD\", \"UPDATE_PROFILE\", \"VERIFY_EMAIL\"]})"
   ]
  },
  {
   "cell_type": "code",
   "execution_count": 13,
   "metadata": {},
   "outputs": [
    {
     "data": {
      "text/plain": [
       "'029233f4-0640-4406-97ac-5fb12bc59bc9'"
      ]
     },
     "execution_count": 13,
     "metadata": {},
     "output_type": "execute_result"
    }
   ],
   "source": [
    "new_user"
   ]
  },
  {
   "cell_type": "code",
   "execution_count": 14,
   "metadata": {},
   "outputs": [],
   "source": [
    "import json"
   ]
  },
  {
   "cell_type": "code",
   "execution_count": 15,
   "metadata": {},
   "outputs": [],
   "source": [
    "user_id = \"029233f4-0640-4406-97ac-5fb12bc59bc9\""
   ]
  },
  {
   "cell_type": "code",
   "execution_count": 16,
   "metadata": {},
   "outputs": [],
   "source": [
    "# Send User Action\n",
    "response = keycloak_admin.send_update_account(user_id=user_id, \n",
    "                                              payload=json.dumps(['UPDATE_PASSWORD', 'UPDATE_PROFILE', 'VERIFY_EMAIL']))"
   ]
  },
  {
   "cell_type": "code",
   "execution_count": 17,
   "metadata": {},
   "outputs": [
    {
     "data": {
      "text/plain": [
       "{}"
      ]
     },
     "execution_count": 17,
     "metadata": {},
     "output_type": "execute_result"
    }
   ],
   "source": [
    "response"
   ]
  },
  {
   "cell_type": "code",
   "execution_count": null,
   "metadata": {},
   "outputs": [],
   "source": []
  }
 ],
 "metadata": {
  "kernelspec": {
   "display_name": "Python 3",
   "language": "python",
   "name": "python3"
  },
  "language_info": {
   "codemirror_mode": {
    "name": "ipython",
    "version": 3
   },
   "file_extension": ".py",
   "mimetype": "text/x-python",
   "name": "python",
   "nbconvert_exporter": "python",
   "pygments_lexer": "ipython3",
   "version": "3.6.10"
  }
 },
 "nbformat": 4,
 "nbformat_minor": 2
}
