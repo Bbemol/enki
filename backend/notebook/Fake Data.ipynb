{
 "cells": [
  {
   "cell_type": "code",
   "execution_count": 1,
   "metadata": {},
   "outputs": [],
   "source": [
    "import pandas as pd\n",
    "import requests\n",
    "import requests_cache\n",
    "from tqdm import tqdm_notebook\n",
    "import io\n",
    "requests_cache.install_cache(\"geocode\",expire_after=10000000)"
   ]
  },
  {
   "cell_type": "code",
   "execution_count": 2,
   "metadata": {},
   "outputs": [
    {
     "name": "stderr",
     "output_type": "stream",
     "text": [
      "/Users/raphael/anaconda3/lib/python3.6/site-packages/ipykernel_launcher.py:1: TqdmDeprecationWarning: This function will be removed in tqdm==5.0.0\n",
      "Please use `tqdm.notebook.tqdm` instead of `tqdm.tqdm_notebook`\n",
      "  \"\"\"Entry point for launching an IPython kernel.\n"
     ]
    },
    {
     "data": {
      "application/vnd.jupyter.widget-view+json": {
       "model_id": "526f3e6a4f544e509d1df4aa5a28683f",
       "version_major": 2,
       "version_minor": 0
      },
      "text/plain": [
       "HBox(children=(FloatProgress(value=1.0, bar_style='info', layout=Layout(width='20px'), max=1.0), HTML(value=''…"
      ]
     },
     "metadata": {},
     "output_type": "display_data"
    }
   ],
   "source": [
    "tqdm_notebook().pandas()"
   ]
  },
  {
   "cell_type": "code",
   "execution_count": 4,
   "metadata": {},
   "outputs": [],
   "source": [
    "df = pd.read_excel(\"../jdd/ITV SDIS77 2019.xlsx\")"
   ]
  },
  {
   "cell_type": "code",
   "execution_count": 5,
   "metadata": {},
   "outputs": [],
   "source": [
    "#!pip install ../../cisu/dist/cisu_python-0.1-py3-none-any.whl"
   ]
  },
  {
   "cell_type": "code",
   "execution_count": 6,
   "metadata": {},
   "outputs": [],
   "source": [
    "df = df[df[\"DEPT_NUM\"].notnull() & df[\"COD_INSEE\"].notnull()]\n",
    "df[\"CODE_INSEE_FULL\"] = df.DEPT_NUM.astype(int).astype(str) + df.COD_INSEE.astype(int).astype(str).str.zfill(3)\n",
    "df[\"ADDRESS\"] = df[\"Adresse complète (adresse volontairement randomisée par rapport aux natures d'ITV)\"]"
   ]
  },
  {
   "cell_type": "code",
   "execution_count": 7,
   "metadata": {},
   "outputs": [],
   "source": [
    "def geo_code_address(address, city_code):\n",
    "    params = (\n",
    "        ('q', address),\n",
    "        ('citycode', city_code),\n",
    "    )\n",
    "\n",
    "    response = requests.get('https://api-adresse.data.gouv.fr/search/', params=params)\n",
    "    data = response.json()\n",
    "    try:\n",
    "        properties = data[\"features\"][0][\"properties\"]\n",
    "        properties[\"coordinates\"] = data[\"features\"][0][\"geometry\"][\"coordinates\"]\n",
    "        return properties\n",
    "    except:\n",
    "        return {}"
   ]
  },
  {
   "cell_type": "code",
   "execution_count": 8,
   "metadata": {},
   "outputs": [],
   "source": [
    "df_to_geocode = df[[\"ADDRESS\", \"CODE_INSEE_FULL\"]]"
   ]
  },
  {
   "cell_type": "code",
   "execution_count": 9,
   "metadata": {},
   "outputs": [],
   "source": [
    "df_to_geocode.to_csv(\"api_gouv_to_geocode.csv\", index=False)"
   ]
  },
  {
   "cell_type": "code",
   "execution_count": 10,
   "metadata": {},
   "outputs": [],
   "source": [
    "def geocode_csv(path):\n",
    "    files = {\n",
    "        'data': (path, open(path, 'rb')),\n",
    "\n",
    "    }\n",
    "    data= {\n",
    "        'columns': ('ADDRESS'),\n",
    "        'city_code':(\"CODE_INSEE_FULL\")\n",
    "    }\n",
    "\n",
    "    response = requests.post('https://api-adresse.data.gouv.fr/search/csv/', files=files, data=data)\n",
    "    return response\n"
   ]
  },
  {
   "cell_type": "code",
   "execution_count": 11,
   "metadata": {},
   "outputs": [],
   "source": [
    "response = geocode_csv(\"api_gouv_to_geocode.csv\")"
   ]
  },
  {
   "cell_type": "code",
   "execution_count": 12,
   "metadata": {},
   "outputs": [
    {
     "name": "stderr",
     "output_type": "stream",
     "text": [
      "/Users/raphael/anaconda3/lib/python3.6/site-packages/IPython/core/interactiveshell.py:2698: DtypeWarning: Columns (14) have mixed types.Specify dtype option on import or set low_memory=False.\n",
      "  interactivity=interactivity, compiler=compiler, result=result)\n"
     ]
    }
   ],
   "source": [
    "df_geocoded = pd.read_csv(io.StringIO(response.content.decode('utf8')))\n",
    "df_geocoded.index=df.index"
   ]
  },
  {
   "cell_type": "code",
   "execution_count": 13,
   "metadata": {},
   "outputs": [],
   "source": [
    "df_final = df.join(df_geocoded.drop(['CODE_INSEE_FULL', 'ADDRESS'], axis=1)).dropna(subset=[\"latitude\"])"
   ]
  },
  {
   "cell_type": "markdown",
   "metadata": {},
   "source": [
    "# Mapping "
   ]
  },
  {
   "cell_type": "code",
   "execution_count": 14,
   "metadata": {},
   "outputs": [],
   "source": [
    "df_mapping = pd.read_csv(\"https://docs.google.com/spreadsheets/d/e/2PACX-1vRtWEP1srjMDRO__rOx_2vj33-Lw5874G44PxSSmzxK5VHvhXzUfcxBr2s5uXiU7kNwdN3JEBsW2tZR/pub?gid=0&single=true&output=csv\")"
   ]
  },
  {
   "cell_type": "code",
   "execution_count": 15,
   "metadata": {},
   "outputs": [],
   "source": [
    "df_final_mapped = df_final.merge(df_mapping[['Code SDIS', \"Nature de faits\",\"Pathologie\"]],\n",
    "                                     left_on='LIBELLE SINISTRE', \n",
    "                                     right_on='Code SDIS')"
   ]
  },
  {
   "cell_type": "code",
   "execution_count": 16,
   "metadata": {},
   "outputs": [
    {
     "data": {
      "text/plain": [
       "<matplotlib.axes._subplots.AxesSubplot at 0x1210aab00>"
      ]
     },
     "execution_count": 16,
     "metadata": {},
     "output_type": "execute_result"
    }
   ],
   "source": [
    "df_final_mapped.groupby(df_final_mapped[\"DAT_DEB\"].dt.month).count().plot(kind=\"bar\")"
   ]
  },
  {
   "cell_type": "code",
   "execution_count": 17,
   "metadata": {},
   "outputs": [],
   "source": [
    "df_final_mapped.to_csv(\"df_final_mapped.csv\", index=False)"
   ]
  },
  {
   "cell_type": "code",
   "execution_count": 45,
   "metadata": {},
   "outputs": [
    {
     "data": {
      "text/plain": [
       "1     9260\n",
       "6     8847\n",
       "12    8687\n",
       "7     8460\n",
       "2     8236\n",
       "3     8140\n",
       "10    8129\n",
       "9     8102\n",
       "4     7921\n",
       "11    7843\n",
       "5     7405\n",
       "8     7162\n",
       "Name: DAT_DEB, dtype: int64"
      ]
     },
     "execution_count": 45,
     "metadata": {},
     "output_type": "execute_result"
    }
   ],
   "source": [
    "df_final_mapped[\"DAT_DEB\"].dt.month.value_counts()"
   ]
  },
  {
   "cell_type": "markdown",
   "metadata": {},
   "source": [
    "# Build EdxlMessage from infos"
   ]
  },
  {
   "cell_type": "code",
   "execution_count": 18,
   "metadata": {},
   "outputs": [],
   "source": [
    "records = df_final_mapped.to_dict(orient=\"records\")"
   ]
  },
  {
   "cell_type": "code",
   "execution_count": 19,
   "metadata": {},
   "outputs": [],
   "source": [
    "from cisu.factories.edxl_factory import EdxlMessageFactory\n",
    "from cisu.entities.commons.common_alerts import WhatsHappen, HealthMotive, MainVictim, LocationKind, RiskThreat\n",
    "from cisu.entities.commons.severity import Severity\n",
    "from cisu.constants.constants import WhatsHappenConstants, LocationKindConstants, RiskThreatConstants, HealthMotiveConstants"
   ]
  },
  {
   "cell_type": "code",
   "execution_count": 20,
   "metadata": {},
   "outputs": [],
   "source": [
    "health_motive_constant = HealthMotiveConstants()\n",
    "whats_happen_constants = WhatsHappenConstants()"
   ]
  },
  {
   "cell_type": "code",
   "execution_count": 21,
   "metadata": {},
   "outputs": [],
   "source": [
    "def build_edxl_from_record(record):\n",
    "    try:\n",
    "        return EdxlMessageFactory.build_ack_from_simple_infos(\n",
    "            created_at=record[\"DAT_DEB\"].to_pydatetime(),\n",
    "            lat=record[\"latitude\"],\n",
    "            lon=record[\"longitude\"],\n",
    "            address=record[\"ADDRESS\"],\n",
    "            severity=Severity.UNKNOWN,\n",
    "            whatsHappen=whats_happen_constants.get_by_code(code=record['Nature de faits']),\n",
    "            victims=MainVictim.ADULT,\n",
    "            locationKind=None,\n",
    "            healthMotive=health_motive_constant.get_by_code(code=record[\"Pathologie\"]),\n",
    "            riskThreat=None\n",
    "        )\n",
    "    except:\n",
    "        pass"
   ]
  },
  {
   "cell_type": "code",
   "execution_count": 25,
   "metadata": {},
   "outputs": [],
   "source": [
    "import uuid\n",
    "from tqdm import tqdm \n",
    "import json\n",
    "import sys"
   ]
  },
  {
   "cell_type": "code",
   "execution_count": 26,
   "metadata": {},
   "outputs": [],
   "source": [
    "sys.path.append(\"../src/\")"
   ]
  },
  {
   "cell_type": "code",
   "execution_count": 27,
   "metadata": {},
   "outputs": [],
   "source": [
    "INDEX_NAME = \"affairs\""
   ]
  },
  {
   "cell_type": "code",
   "execution_count": 28,
   "metadata": {},
   "outputs": [],
   "source": [
    "from domain.affairs.cisu.entities.commons import DateType\n",
    "from domain.affairs.cisu.entities.commons.cisu_enum import CisuEnum\n",
    "from domain.affairs.cisu.entities.commons.common_alerts import AttributeType, Victims\n",
    "from domain.tasks.entities.event_entity import Severity\n",
    "from domain.tasks.entities.task_entity import TaskType\n",
    "from datetime import datetime, date\n",
    "from domain.affairs.cisu.entities.commons.location_type import LocationShape\n",
    "\n",
    "class SapeurJsonEncoder(json.JSONEncoder):\n",
    "    def default(self, obj):\n",
    "        try:\n",
    "            if isinstance(obj, datetime):\n",
    "                return str(obj)\n",
    "            elif isinstance(obj, date):\n",
    "                return str(obj)\n",
    "            elif isinstance(obj, DateType):\n",
    "                return str(obj)\n",
    "            elif isinstance(obj, CisuEnum):\n",
    "                return str(obj)\n",
    "            elif isinstance(obj, LocationShape):\n",
    "                return str(obj)\n",
    "            elif isinstance(obj, Severity):\n",
    "                return str(obj)\n",
    "            elif isinstance(obj, TaskType):\n",
    "                return str(obj)\n",
    "            elif isinstance(obj, AttributeType):\n",
    "                return obj.to_dict()\n",
    "            elif isinstance(obj, Victims):\n",
    "                return obj.to_dict()\n",
    "            elif obj is None:\n",
    "                return None\n",
    "            return json.JSONEncoder.default(self, obj)\n",
    "        except TypeError as e:\n",
    "            return str(obj)"
   ]
  },
  {
   "cell_type": "code",
   "execution_count": 29,
   "metadata": {},
   "outputs": [],
   "source": [
    "from elasticsearch import Elasticsearch"
   ]
  },
  {
   "cell_type": "code",
   "execution_count": 30,
   "metadata": {},
   "outputs": [
    {
     "data": {
      "text/plain": [
       "True"
      ]
     },
     "execution_count": 30,
     "metadata": {},
     "output_type": "execute_result"
    }
   ],
   "source": [
    "client = Elasticsearch(\"localhost:9200\", http_auth=(\"elastic\", \"changeme\"))\n",
    "client.ping()"
   ]
  },
  {
   "cell_type": "code",
   "execution_count": 47,
   "metadata": {},
   "outputs": [],
   "source": [
    "affair_mapping = {\n",
    "  \"mappings\": {\n",
    "      \"properties\": {\n",
    "        \"createdAt\": {\n",
    "          \"type\": \"date\",\n",
    "            \"format\":\"yyyy-MM-dd HH:mm:ss\"\n",
    "            \n",
    "        },\n",
    "        \"eventId\": {\n",
    "          \"type\": \"text\",\n",
    "          \"fields\": {\n",
    "            \"keyword\": {\n",
    "              \"type\": \"keyword\",\n",
    "              \"ignore_above\": 256\n",
    "            }\n",
    "          }\n",
    "        },\n",
    "        \"eventLocation\": {\n",
    "          \"properties\": {\n",
    "            \"address\": {\n",
    "              \"type\": \"text\",\n",
    "              \"fields\": {\n",
    "                \"keyword\": {\n",
    "                  \"type\": \"keyword\",\n",
    "                  \"ignore_above\": 256\n",
    "                }\n",
    "              }\n",
    "            },\n",
    "            \"coord\": {\n",
    "              \"properties\": {\n",
    "                \"lat\": {\n",
    "                  \"type\": \"float\"\n",
    "                },\n",
    "                \"lon\": {\n",
    "                  \"type\": \"float\"\n",
    "                }\n",
    "              }\n",
    "            },\n",
    "            \"location\": {\n",
    "              \"type\": \"geo_point\"\n",
    "            },\n",
    "            \"name\": {\n",
    "              \"type\": \"text\",\n",
    "              \"fields\": {\n",
    "                \"keyword\": {\n",
    "                  \"type\": \"keyword\",\n",
    "                  \"ignore_above\": 256\n",
    "                }\n",
    "              }\n",
    "            },\n",
    "            \"type\": {\n",
    "              \"type\": \"text\",\n",
    "              \"fields\": {\n",
    "                \"keyword\": {\n",
    "                  \"type\": \"keyword\",\n",
    "                  \"ignore_above\": 256\n",
    "                }\n",
    "              }\n",
    "            }\n",
    "          }\n",
    "        },\n",
    "        \"primaryAlert\": {\n",
    "          \"properties\": {\n",
    "            \"alertCode\": {\n",
    "              \"properties\": {\n",
    "                \"healthMotive\": {\n",
    "                  \"properties\": {\n",
    "                    \"code\": {\n",
    "                      \"type\": \"text\",\n",
    "                      \"fields\": {\n",
    "                        \"keyword\": {\n",
    "                          \"type\": \"keyword\",\n",
    "                          \"ignore_above\": 256\n",
    "                        }\n",
    "                      }\n",
    "                    },\n",
    "                    \"label\": {\n",
    "                      \"type\": \"text\",\n",
    "                      \"fields\": {\n",
    "                        \"keyword\": {\n",
    "                          \"type\": \"keyword\",\n",
    "                          \"ignore_above\": 256\n",
    "                        }\n",
    "                      }\n",
    "                    }\n",
    "                  }\n",
    "                },\n",
    "                \"version\": {\n",
    "                  \"type\": \"text\",\n",
    "                  \"fields\": {\n",
    "                    \"keyword\": {\n",
    "                      \"type\": \"keyword\",\n",
    "                      \"ignore_above\": 256\n",
    "                    }\n",
    "                  }\n",
    "                },\n",
    "                \"victims\": {\n",
    "                  \"type\": \"text\",\n",
    "                  \"fields\": {\n",
    "                    \"keyword\": {\n",
    "                      \"type\": \"keyword\",\n",
    "                      \"ignore_above\": 256\n",
    "                    }\n",
    "                  }\n",
    "                },\n",
    "                \"whatsHappen\": {\n",
    "                  \"properties\": {\n",
    "                    \"code\": {\n",
    "                      \"type\": \"text\",\n",
    "                      \"fields\": {\n",
    "                        \"keyword\": {\n",
    "                          \"type\": \"keyword\",\n",
    "                          \"ignore_above\": 256\n",
    "                        }\n",
    "                      }\n",
    "                    },\n",
    "                    \"label\": {\n",
    "                      \"type\": \"text\",\n",
    "                      \"fields\": {\n",
    "                        \"keyword\": {\n",
    "                          \"type\": \"keyword\",\n",
    "                          \"ignore_above\": 256\n",
    "                        }\n",
    "                      }\n",
    "                    }\n",
    "                  }\n",
    "                }\n",
    "              }\n",
    "            },\n",
    "            \"alertId\": {\n",
    "              \"type\": \"text\",\n",
    "              \"fields\": {\n",
    "                \"keyword\": {\n",
    "                  \"type\": \"keyword\",\n",
    "                  \"ignore_above\": 256\n",
    "                }\n",
    "              }\n",
    "            },\n",
    "            \"alertLocation\": {\n",
    "              \"properties\": {\n",
    "                \"address\": {\n",
    "                  \"type\": \"text\",\n",
    "                  \"fields\": {\n",
    "                    \"keyword\": {\n",
    "                      \"type\": \"keyword\",\n",
    "                      \"ignore_above\": 256\n",
    "                    }\n",
    "                  }\n",
    "                },\n",
    "                \"coord\": {\n",
    "                  \"properties\": {\n",
    "                    \"lat\": {\n",
    "                      \"type\": \"float\"\n",
    "                    },\n",
    "                    \"lon\": {\n",
    "                      \"type\": \"float\"\n",
    "                    }\n",
    "                  }\n",
    "                },\n",
    "                \"name\": {\n",
    "                  \"type\": \"text\",\n",
    "                  \"fields\": {\n",
    "                    \"keyword\": {\n",
    "                      \"type\": \"keyword\",\n",
    "                      \"ignore_above\": 256\n",
    "                    }\n",
    "                  }\n",
    "                },\n",
    "                \"type\": {\n",
    "                  \"type\": \"text\",\n",
    "                  \"fields\": {\n",
    "                    \"keyword\": {\n",
    "                      \"type\": \"keyword\",\n",
    "                      \"ignore_above\": 256\n",
    "                    }\n",
    "                  }\n",
    "                }\n",
    "              }\n",
    "            },\n",
    "            \"call\": {\n",
    "              \"properties\": {\n",
    "                \"dialledURI\": {\n",
    "                  \"type\": \"text\",\n",
    "                  \"fields\": {\n",
    "                    \"keyword\": {\n",
    "                      \"type\": \"keyword\",\n",
    "                      \"ignore_above\": 256\n",
    "                    }\n",
    "                  }\n",
    "                },\n",
    "                \"source\": {\n",
    "                  \"type\": \"text\",\n",
    "                  \"fields\": {\n",
    "                    \"keyword\": {\n",
    "                      \"type\": \"keyword\",\n",
    "                      \"ignore_above\": 256\n",
    "                    }\n",
    "                  }\n",
    "                }\n",
    "              }\n",
    "            },\n",
    "            \"callTaker\": {\n",
    "              \"properties\": {\n",
    "                \"calltakerURI\": {\n",
    "                  \"type\": \"text\",\n",
    "                  \"fields\": {\n",
    "                    \"keyword\": {\n",
    "                      \"type\": \"keyword\",\n",
    "                      \"ignore_above\": 256\n",
    "                    }\n",
    "                  }\n",
    "                },\n",
    "                \"controlRoom\": {\n",
    "                  \"type\": \"text\",\n",
    "                  \"fields\": {\n",
    "                    \"keyword\": {\n",
    "                      \"type\": \"keyword\",\n",
    "                      \"ignore_above\": 256\n",
    "                    }\n",
    "                  }\n",
    "                },\n",
    "                \"organization\": {\n",
    "                  \"type\": \"text\",\n",
    "                  \"fields\": {\n",
    "                    \"keyword\": {\n",
    "                      \"type\": \"keyword\",\n",
    "                      \"ignore_above\": 256\n",
    "                    }\n",
    "                  }\n",
    "                }\n",
    "              }\n",
    "            },\n",
    "            \"caller\": {\n",
    "              \"properties\": {\n",
    "                \"callbackURI\": {\n",
    "                  \"type\": \"text\",\n",
    "                  \"fields\": {\n",
    "                    \"keyword\": {\n",
    "                      \"type\": \"keyword\",\n",
    "                      \"ignore_above\": 256\n",
    "                    }\n",
    "                  }\n",
    "                },\n",
    "                \"callerInformation\": {\n",
    "                  \"type\": \"text\",\n",
    "                  \"fields\": {\n",
    "                    \"keyword\": {\n",
    "                      \"type\": \"keyword\",\n",
    "                      \"ignore_above\": 256\n",
    "                    }\n",
    "                  }\n",
    "                },\n",
    "                \"callerURI\": {\n",
    "                  \"type\": \"text\",\n",
    "                  \"fields\": {\n",
    "                    \"keyword\": {\n",
    "                      \"type\": \"keyword\",\n",
    "                      \"ignore_above\": 256\n",
    "                    }\n",
    "                  }\n",
    "                },\n",
    "                \"spokenLanguage\": {\n",
    "                  \"type\": \"text\",\n",
    "                  \"fields\": {\n",
    "                    \"keyword\": {\n",
    "                      \"type\": \"keyword\",\n",
    "                      \"ignore_above\": 256\n",
    "                    }\n",
    "                  }\n",
    "                }\n",
    "              }\n",
    "            },\n",
    "            \"primary\": {\n",
    "              \"type\": \"boolean\"\n",
    "            },\n",
    "            \"receivedAt\": {\n",
    "              \"type\": \"date\",\n",
    "              \"format\":\"yyyy-MM-dd HH:mm:ss\"\n",
    "                \n",
    "            },\n",
    "            \"reporting\": {\n",
    "              \"type\": \"text\",\n",
    "              \"fields\": {\n",
    "                \"keyword\": {\n",
    "                  \"type\": \"keyword\",\n",
    "                  \"ignore_above\": 256\n",
    "                }\n",
    "              }\n",
    "            }\n",
    "          }\n",
    "        },\n",
    "        \"severity\": {\n",
    "          \"type\": \"text\",\n",
    "          \"fields\": {\n",
    "            \"keyword\": {\n",
    "              \"type\": \"keyword\",\n",
    "              \"ignore_above\": 256\n",
    "            }\n",
    "          }\n",
    "        }\n",
    "      }\n",
    "    },\n",
    "}"
   ]
  },
  {
   "cell_type": "code",
   "execution_count": 48,
   "metadata": {},
   "outputs": [],
   "source": [
    "response = client.indices.create(\n",
    "    index=INDEX_NAME,\n",
    "    body=affair_mapping,\n",
    "    ignore=400 # ignore 400 already exists code\n",
    ")"
   ]
  },
  {
   "cell_type": "code",
   "execution_count": 49,
   "metadata": {},
   "outputs": [
    {
     "name": "stderr",
     "output_type": "stream",
     "text": [
      "100%|██████████| 98192/98192 [00:46<00:00, 2123.36it/s]\n"
     ]
    }
   ],
   "source": [
    "affairs = [edxl.resource.message.choice.to_dict() \n",
    "           for edxl in [build_edxl_from_record(record) for record in tqdm(records)] if edxl]\n"
   ]
  },
  {
   "cell_type": "code",
   "execution_count": 50,
   "metadata": {},
   "outputs": [
    {
     "data": {
      "text/plain": [
       "'2019-10-28 02:31:04'"
      ]
     },
     "execution_count": 50,
     "metadata": {},
     "output_type": "execute_result"
    }
   ],
   "source": [
    "str(affairs[7834][\"createdAt\"])"
   ]
  },
  {
   "cell_type": "code",
   "execution_count": 51,
   "metadata": {},
   "outputs": [
    {
     "name": "stderr",
     "output_type": "stream",
     "text": [
      "100%|██████████| 98192/98192 [00:00<00:00, 208702.42it/s]\n"
     ]
    }
   ],
   "source": [
    "for affair in tqdm(affairs):\n",
    "    lat = affair[\"eventLocation\"][\"coord\"][\"lat\"]\n",
    "    lon = affair[\"eventLocation\"][\"coord\"][\"lon\"]\n",
    "    affair[\"eventLocation\"][\"location\"] = { \n",
    "    \"lat\": float(lat),\n",
    "    \"lon\": float(lon)\n",
    "  }\n",
    "    "
   ]
  },
  {
   "cell_type": "code",
   "execution_count": 52,
   "metadata": {},
   "outputs": [],
   "source": [
    "from elasticsearch import helpers\n"
   ]
  },
  {
   "cell_type": "code",
   "execution_count": 53,
   "metadata": {},
   "outputs": [
    {
     "name": "stderr",
     "output_type": "stream",
     "text": [
      "100%|██████████| 98192/98192 [00:17<00:00, 5626.45it/s]\n"
     ]
    }
   ],
   "source": [
    "actions = [\n",
    "    {\n",
    "        \"_id\" : affair[\"eventId\"],\n",
    "        \"_index\": INDEX_NAME,\n",
    "        \"_source\": json.loads(json.dumps(affair, cls=SapeurJsonEncoder,))\n",
    "    }\n",
    "    for affair in tqdm(affairs)\n",
    "]"
   ]
  },
  {
   "cell_type": "code",
   "execution_count": 54,
   "metadata": {
    "scrolled": false
   },
   "outputs": [],
   "source": [
    "response = helpers.bulk(client, actions)"
   ]
  },
  {
   "cell_type": "code",
   "execution_count": null,
   "metadata": {},
   "outputs": [],
   "source": []
  }
 ],
 "metadata": {
  "kernelspec": {
   "display_name": "Python 3",
   "language": "python",
   "name": "python3"
  },
  "language_info": {
   "codemirror_mode": {
    "name": "ipython",
    "version": 3
   },
   "file_extension": ".py",
   "mimetype": "text/x-python",
   "name": "python",
   "nbconvert_exporter": "python",
   "pygments_lexer": "ipython3",
   "version": "3.6.10"
  }
 },
 "nbformat": 4,
 "nbformat_minor": 2
}
