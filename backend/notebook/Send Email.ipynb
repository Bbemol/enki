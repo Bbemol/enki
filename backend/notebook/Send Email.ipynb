{
 "cells": [
  {
   "cell_type": "code",
   "execution_count": 24,
   "metadata": {},
   "outputs": [],
   "source": [
    "from email.mime.multipart import MIMEMultipart\n",
    "from email.mime.text import MIMEText\n",
    "import ssl, smtplib\n",
    "\n",
    "import os\n",
    "from flask import current_app\n",
    "from jinja2 import Environment, FileSystemLoader\n",
    "\n",
    "class EmailService:\n",
    "\n",
    "    def __init__(self, host: str, port: str, user: str, password: str):\n",
    "        self.host = host\n",
    "        self.port = port\n",
    "        self.user = user\n",
    "        self.password = password\n",
    "        #self.env = Environment(loader=FileSystemLoader('%s/templates/' % os.path.dirname(__file__)))\n",
    "\n",
    "    @classmethod\n",
    "    def from_config(cls, config):\n",
    "        return cls(\n",
    "            from_email=config[\"FROM_EMAIL\"],\n",
    "            host=config[\"EMAIL_HOST\"],\n",
    "            port=config[\"EMAIL_PORT\"],\n",
    "            user=config[\"EMAIL_USER\"],\n",
    "            password=config[\"EMAIL_PASSWORD\"]\n",
    "        )\n",
    "\n",
    "\n",
    "    def send_email(self, to_email: str, subject: str, template_name: str= None, content: str = None, **kwargs):\n",
    "        context = ssl.create_default_context()\n",
    "        message = MIMEMultipart()\n",
    "        message['Subject'] = subject\n",
    "        message['From'] = self.user\n",
    "        message['To'] = to_email\n",
    "        if template_name:\n",
    "            template = self.env.get_template('email.html')\n",
    "            body_content = template.render(**kwargs)    \n",
    "            message.attach(MIMEText(body_content, \"html\"))\n",
    "        else:\n",
    "            message.attach(MIMEText(content,'plain'))\n",
    "        \n",
    "        msg_body = message.as_string()\n",
    "\n",
    "        with smtplib.SMTP_SSL(self.host, self.port, context=context) as server:\n",
    "            server.login(self.user, self.password)\n",
    "            result = server.sendmail(self.user, to_email, msg_body)"
   ]
  },
  {
   "cell_type": "markdown",
   "metadata": {},
   "source": [
    " 2525"
   ]
  },
  {
   "cell_type": "code",
   "execution_count": 22,
   "metadata": {},
   "outputs": [],
   "source": [
    "es = EmailService(\n",
    "\n",
    ")"
   ]
  },
  {
   "cell_type": "code",
   "execution_count": 23,
   "metadata": {},
   "outputs": [],
   "source": [
    "es.send_email(\"r.courivaud@gmail.com\", \"test\", content=\"Salut\")"
   ]
  },
  {
   "cell_type": "code",
   "execution_count": 2,
   "metadata": {},
   "outputs": [],
   "source": [
    "from email.mime.multipart import MIMEMultipart\n",
    "from email.mime.text import MIMEText\n",
    "import ssl, smtplib\n",
    "\n",
    "host=\"smtp.online.net\"\n",
    "port=465\n",
    "user=\"no-reply@enki-crise.fr\"\n",
    "password=\"EnkiEIG2020!\"\n",
    "to_email = \"r.courivaud@gmail.com\"\n",
    "\n",
    "context = ssl.create_default_context()\n",
    "message = MIMEMultipart()\n",
    "message['Subject'] = \"C'est un test\"\n",
    "message['From'] = \"no-reply@enki-crise.fr\"\n",
    "message['To'] = to_email\n",
    "\n",
    "message.attach(MIMEText(\"Contenu de l'email de test\",'plain'))\n",
    "\n",
    "msg_body = message.as_string()\n",
    "\n",
    "with smtplib.SMTP_SSL(host, port, context=context) as server:\n",
    "    server.login(user, password)\n",
    "    result = server.sendmail(user, to_email, msg_body)"
   ]
  },
  {
   "cell_type": "code",
   "execution_count": null,
   "metadata": {},
   "outputs": [],
   "source": []
  }
 ],
 "metadata": {
  "kernelspec": {
   "display_name": "Python 3",
   "language": "python",
   "name": "python3"
  },
  "language_info": {
   "codemirror_mode": {
    "name": "ipython",
    "version": 3
   },
   "file_extension": ".py",
   "mimetype": "text/x-python",
   "name": "python",
   "nbconvert_exporter": "python",
   "pygments_lexer": "ipython3",
   "version": "3.6.10"
  }
 },
 "nbformat": 4,
 "nbformat_minor": 5
}
