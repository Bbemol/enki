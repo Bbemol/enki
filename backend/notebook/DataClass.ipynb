{
 "cells": [
  {
   "cell_type": "code",
   "execution_count": 51,
   "metadata": {},
   "outputs": [],
   "source": [
    "from datetime import datetime\n",
    "from typing import Union\n",
    "\n",
    "def remove_extra_last_char_(original_string, char=\":\", replace_char=\"\"):\n",
    "    last_char_index = original_string.rfind(char)\n",
    "    return original_string[:last_char_index] + replace_char + original_string[last_char_index+1:]\n",
    "\n",
    "\n",
    "class DateType(datetime):\n",
    "    \"\"\"\n",
    "        L'indicateur de fuseau horaire Z ne doit pas être utilisé. Le fuseau horaire pour UTC doit être représenté par '-00:00'.\n",
    "\n",
    "        ...\n",
    "\n",
    "        Attributes\n",
    "        ----------\n",
    "        value : str\n",
    "            a datetime object \"\\\\d\\\\d\\\\d\\\\d-\\\\d\\\\d-\\\\d\\\\dT\\\\d\\\\d:\\\\d\\\\d:\\\\d\\\\d[\\\\-+]\\\\d\\\\d:\\\\d\\\\d\"\n",
    "            example 2070-11-02T16:05:29+00:00\n",
    "\n",
    "    \"\"\"\n",
    "\n",
    "    def __new__(cls, *args, **kwargs):\n",
    "        value = args[0]\n",
    "        if isinstance(value, str):\n",
    "            return datetime.strptime(remove_extra_last_char_(value), '%Y-%m-%dT%H:%M:%S%z')\n",
    "        else:\n",
    "            return value\n",
    "\n",
    "    def __repr__(self):\n",
    "        string_value = self.value.astimezone(timezone.utc).strftime('%Y-%m-%dT%H:%M:%S%z')\n",
    "        return string_value[0:-2] + \":\" + string_value[-2:]\n",
    "\n",
    "    def __str__(self):\n",
    "        return self.__repr__()\n",
    "\n",
    "    def _to_dict(self):\n",
    "        return self.__repr__()"
   ]
  },
  {
   "cell_type": "code",
   "execution_count": 53,
   "metadata": {},
   "outputs": [],
   "source": [
    "from dataclasses import dataclass\n",
    "from dataclasses_json import dataclass_json\n",
    "\n",
    "@dataclass_json\n",
    "@dataclass\n",
    "class B:\n",
    "    a:DateType\n",
    "        \n",
    "    class Config:\n",
    "        arbitrary_types_allowed = True\n"
   ]
  },
  {
   "cell_type": "code",
   "execution_count": 57,
   "metadata": {},
   "outputs": [],
   "source": [
    "b = B(a=DateType(datetime.now()))"
   ]
  },
  {
   "cell_type": "code",
   "execution_count": 58,
   "metadata": {},
   "outputs": [],
   "source": [
    "import json"
   ]
  },
  {
   "cell_type": "code",
   "execution_count": 59,
   "metadata": {},
   "outputs": [
    {
     "data": {
      "text/plain": [
       "{'a': datetime.datetime(2020, 11, 12, 11, 52, 4, 171493)}"
      ]
     },
     "execution_count": 59,
     "metadata": {},
     "output_type": "execute_result"
    }
   ],
   "source": [
    "b.to_dict()"
   ]
  },
  {
   "cell_type": "code",
   "execution_count": null,
   "metadata": {},
   "outputs": [],
   "source": []
  }
 ],
 "metadata": {
  "kernelspec": {
   "display_name": "Python 3",
   "language": "python",
   "name": "python3"
  },
  "language_info": {
   "codemirror_mode": {
    "name": "ipython",
    "version": 3
   },
   "file_extension": ".py",
   "mimetype": "text/x-python",
   "name": "python",
   "nbconvert_exporter": "python",
   "pygments_lexer": "ipython3",
   "version": "3.6.10"
  }
 },
 "nbformat": 4,
 "nbformat_minor": 2
}
