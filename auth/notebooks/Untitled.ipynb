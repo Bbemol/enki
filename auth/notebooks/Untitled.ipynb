{
 "cells": [
  {
   "cell_type": "code",
   "execution_count": 24,
   "metadata": {},
   "outputs": [],
   "source": [
    "from keycloak import KeycloakAdmin"
   ]
  },
  {
   "cell_type": "code",
   "execution_count": 1,
   "metadata": {},
   "outputs": [
    {
     "name": "stdout",
     "output_type": "stream",
     "text": [
      "Requirement already satisfied: python-keycloak in /Users/raphael/anaconda3/lib/python3.6/site-packages (0.17.6)\n",
      "Requirement already satisfied: python-jose>=1.4.0 in /Users/raphael/anaconda3/lib/python3.6/site-packages (from python-keycloak) (3.2.0)\n",
      "Requirement already satisfied: requests>=2.20.0 in /Users/raphael/anaconda3/lib/python3.6/site-packages (from python-keycloak) (2.24.0)\n",
      "Requirement already satisfied: six<2.0 in /Users/raphael/anaconda3/lib/python3.6/site-packages (from python-jose>=1.4.0->python-keycloak) (1.15.0)\n",
      "Requirement already satisfied: ecdsa<0.15 in /Users/raphael/anaconda3/lib/python3.6/site-packages (from python-jose>=1.4.0->python-keycloak) (0.14.1)\n",
      "Requirement already satisfied: rsa in /Users/raphael/anaconda3/lib/python3.6/site-packages (from python-jose>=1.4.0->python-keycloak) (4.6)\n",
      "Requirement already satisfied: pyasn1 in /Users/raphael/anaconda3/lib/python3.6/site-packages (from python-jose>=1.4.0->python-keycloak) (0.4.2)\n",
      "Requirement already satisfied: idna<3,>=2.5 in /Users/raphael/anaconda3/lib/python3.6/site-packages (from requests>=2.20.0->python-keycloak) (2.6)\n",
      "Requirement already satisfied: urllib3!=1.25.0,!=1.25.1,<1.26,>=1.21.1 in /Users/raphael/anaconda3/lib/python3.6/site-packages (from requests>=2.20.0->python-keycloak) (1.22)\n",
      "Requirement already satisfied: chardet<4,>=3.0.2 in /Users/raphael/anaconda3/lib/python3.6/site-packages (from requests>=2.20.0->python-keycloak) (3.0.4)\n",
      "Requirement already satisfied: certifi>=2017.4.17 in /Users/raphael/anaconda3/lib/python3.6/site-packages (from requests>=2.20.0->python-keycloak) (2019.9.11)\n",
      "\u001b[33mYou are using pip version 18.1, however version 20.2.3 is available.\n",
      "You should consider upgrading via the 'pip install --upgrade pip' command.\u001b[0m\n"
     ]
    }
   ],
   "source": [
    "!pip install python-keycloak"
   ]
  },
  {
   "cell_type": "code",
   "execution_count": 26,
   "metadata": {},
   "outputs": [],
   "source": [
    "KEYCLOAK_URL = \"http://localhost:8080/auth/\"\n",
    "USERNAME = \"admin\"\n",
    "PASSWORD = 'Pa55w0rd'\n",
    "MASTER_REALM_NAME = \"master\"\n",
    "REALM_NAME = \"sapeurs\""
   ]
  },
  {
   "cell_type": "code",
   "execution_count": 68,
   "metadata": {},
   "outputs": [],
   "source": [
    "keycloak_admin = KeycloakAdmin(server_url=KEYCLOAK_URL,\n",
    "                               username=USERNAME,\n",
    "                               password=PASSWORD,\n",
    "                               realm_name=REALM_NAME,\n",
    "                               verify=True)\n",
    "#keycloak_admin.create_realm(payload={\"realm\": \"sapeurs\"}, skip_exists=True)"
   ]
  },
  {
   "cell_type": "code",
   "execution_count": 36,
   "metadata": {},
   "outputs": [],
   "source": [
    "# Add user                       \n",
    "new_user = keycloak_admin.create_user({\"email\": \"\",\n",
    "                                       \"username\": \"dcourivaud\",\n",
    "                                       \"enabled\": True,\n",
    "                                       \"firstName\": \"raphael\",\n",
    "                                       \"lastName\": \"courivaud\",\n",
    "                                       \"attributes\": {\"matricule\": \"test\"},\n",
    "                                       \"credentials\": [{\"value\":\"password\", \"type\": \"password\"}],\n",
    "                                       \"requiredActions\": [\"UPDATE_PASSWORD\"], \n",
    "                                       })"
   ]
  },
  {
   "cell_type": "code",
   "execution_count": 38,
   "metadata": {},
   "outputs": [],
   "source": [
    "from typing import List"
   ]
  },
  {
   "cell_type": "code",
   "execution_count": 45,
   "metadata": {},
   "outputs": [],
   "source": [
    "import pandas as pd \n"
   ]
  },
  {
   "cell_type": "code",
   "execution_count": 51,
   "metadata": {},
   "outputs": [],
   "source": [
    "df_coms = pd.read_csv(\"../seed/communes.csv\")"
   ]
  },
  {
   "cell_type": "code",
   "execution_count": 70,
   "metadata": {},
   "outputs": [
    {
     "ename": "KeycloakAuthenticationError",
     "evalue": "401: b'{\"error\":\"HTTP 401 Unauthorized\"}'",
     "output_type": "error",
     "traceback": [
      "\u001b[0;31m---------------------------------------------------------------------------\u001b[0m",
      "\u001b[0;31mKeycloakAuthenticationError\u001b[0m               Traceback (most recent call last)",
      "\u001b[0;32m<ipython-input-70-66d9ee633cb4>\u001b[0m in \u001b[0;36m<module>\u001b[0;34m()\u001b[0m\n\u001b[1;32m      1\u001b[0m \u001b[0;32mfor\u001b[0m \u001b[0mcode_insee\u001b[0m \u001b[0;32min\u001b[0m \u001b[0mdf_coms\u001b[0m\u001b[0;34m[\u001b[0m\u001b[0;34m\"code_commune_INSEE\"\u001b[0m\u001b[0;34m]\u001b[0m\u001b[0;34m.\u001b[0m\u001b[0mtolist\u001b[0m\u001b[0;34m(\u001b[0m\u001b[0;34m)\u001b[0m\u001b[0;34m:\u001b[0m\u001b[0;34m\u001b[0m\u001b[0;34m\u001b[0m\u001b[0m\n\u001b[0;32m----> 2\u001b[0;31m     \u001b[0mkeycloak_admin\u001b[0m\u001b[0;34m.\u001b[0m\u001b[0mcreate_group\u001b[0m\u001b[0;34m(\u001b[0m\u001b[0mpayload\u001b[0m\u001b[0;34m=\u001b[0m\u001b[0;34m{\u001b[0m\u001b[0;34m\"name\"\u001b[0m\u001b[0;34m:\u001b[0m\u001b[0mcode_insee\u001b[0m\u001b[0;34m}\u001b[0m\u001b[0;34m,\u001b[0m \u001b[0mskip_exists\u001b[0m\u001b[0;34m=\u001b[0m\u001b[0;32mTrue\u001b[0m\u001b[0;34m)\u001b[0m\u001b[0;34m\u001b[0m\u001b[0;34m\u001b[0m\u001b[0m\n\u001b[0m",
      "\u001b[0;32m~/anaconda3/lib/python3.6/site-packages/keycloak/keycloak_admin.py\u001b[0m in \u001b[0;36mcreate_group\u001b[0;34m(self, payload, parent, skip_exists)\u001b[0m\n\u001b[1;32m    523\u001b[0m                                                 data=json.dumps(payload))\n\u001b[1;32m    524\u001b[0m \u001b[0;34m\u001b[0m\u001b[0m\n\u001b[0;32m--> 525\u001b[0;31m         \u001b[0;32mreturn\u001b[0m \u001b[0mraise_error_from_response\u001b[0m\u001b[0;34m(\u001b[0m\u001b[0mdata_raw\u001b[0m\u001b[0;34m,\u001b[0m \u001b[0mKeycloakGetError\u001b[0m\u001b[0;34m,\u001b[0m \u001b[0mexpected_code\u001b[0m\u001b[0;34m=\u001b[0m\u001b[0;36m201\u001b[0m\u001b[0;34m,\u001b[0m \u001b[0mskip_exists\u001b[0m\u001b[0;34m=\u001b[0m\u001b[0mskip_exists\u001b[0m\u001b[0;34m)\u001b[0m\u001b[0;34m\u001b[0m\u001b[0;34m\u001b[0m\u001b[0m\n\u001b[0m\u001b[1;32m    526\u001b[0m \u001b[0;34m\u001b[0m\u001b[0m\n\u001b[1;32m    527\u001b[0m     \u001b[0;32mdef\u001b[0m \u001b[0mupdate_group\u001b[0m\u001b[0;34m(\u001b[0m\u001b[0mself\u001b[0m\u001b[0;34m,\u001b[0m \u001b[0mgroup_id\u001b[0m\u001b[0;34m,\u001b[0m \u001b[0mpayload\u001b[0m\u001b[0;34m)\u001b[0m\u001b[0;34m:\u001b[0m\u001b[0;34m\u001b[0m\u001b[0;34m\u001b[0m\u001b[0m\n",
      "\u001b[0;32m~/anaconda3/lib/python3.6/site-packages/keycloak/exceptions.py\u001b[0m in \u001b[0;36mraise_error_from_response\u001b[0;34m(response, error, expected_code, skip_exists)\u001b[0m\n\u001b[1;32m    100\u001b[0m     raise error(error_message=message,\n\u001b[1;32m    101\u001b[0m                 \u001b[0mresponse_code\u001b[0m\u001b[0;34m=\u001b[0m\u001b[0mresponse\u001b[0m\u001b[0;34m.\u001b[0m\u001b[0mstatus_code\u001b[0m\u001b[0;34m,\u001b[0m\u001b[0;34m\u001b[0m\u001b[0;34m\u001b[0m\u001b[0m\n\u001b[0;32m--> 102\u001b[0;31m                 response_body=response.content)\n\u001b[0m",
      "\u001b[0;31mKeycloakAuthenticationError\u001b[0m: 401: b'{\"error\":\"HTTP 401 Unauthorized\"}'"
     ]
    }
   ],
   "source": [
    "for code_insee in df_coms[\"code_commune_INSEE\"].tolist():\n",
    "    keycloak_admin.create_group(payload={\"name\":code_insee}, skip_exists=True)"
   ]
  },
  {
   "cell_type": "code",
   "execution_count": 57,
   "metadata": {},
   "outputs": [
    {
     "name": "stdout",
     "output_type": "stream",
     "text": [
      "1\n"
     ]
    }
   ],
   "source": [
    "for group, all_coms_deps  in df_coms.groupby(\"code_departement\"):\n",
    "    print(group)\n",
    "    break"
   ]
  },
  {
   "cell_type": "code",
   "execution_count": 39,
   "metadata": {},
   "outputs": [],
   "source": [
    "class Group: \n",
    "    access:dict\n",
    "    attributes:dict\n",
    "    clientRoles:dict\n",
    "    id:str\n",
    "    name:str\n",
    "    path:str\n",
    "    realmRoles:List[str]"
   ]
  },
  {
   "cell_type": "code",
   "execution_count": 42,
   "metadata": {},
   "outputs": [
    {
     "data": {
      "text/plain": [
       "b''"
      ]
     },
     "execution_count": 42,
     "metadata": {},
     "output_type": "execute_result"
    }
   ],
   "source": []
  },
  {
   "cell_type": "code",
   "execution_count": null,
   "metadata": {},
   "outputs": [],
   "source": [
    "keycloak_admin.update_group"
   ]
  },
  {
   "cell_type": "code",
   "execution_count": null,
   "metadata": {},
   "outputs": [],
   "source": []
  },
  {
   "cell_type": "code",
   "execution_count": null,
   "metadata": {},
   "outputs": [],
   "source": [
    "from keycloak import KeycloakOpenID\n",
    "\n",
    "# Configure client\n",
    "keycloak_openid = KeycloakOpenID(server_url=\"http://localhost:8080/auth/\",\n",
    "                    client_id=\"example_client\",\n",
    "                    realm_name=\"example_realm\",\n",
    "                    client_secret_key=\"secret\")"
   ]
  }
 ],
 "metadata": {
  "kernelspec": {
   "display_name": "Python 3",
   "language": "python",
   "name": "python3"
  }
 },
 "nbformat": 4,
 "nbformat_minor": 2
}
