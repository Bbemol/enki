{
 "cells": [
  {
   "cell_type": "code",
   "execution_count": 1,
   "metadata": {},
   "outputs": [
    {
     "name": "stdout",
     "output_type": "stream",
     "text": [
      "Requirement already satisfied: jinja2 in /home/raphael/anaconda3/lib/python3.8/site-packages (2.11.2)\r\n",
      "Requirement already satisfied: MarkupSafe>=0.23 in /home/raphael/anaconda3/lib/python3.8/site-packages (from jinja2) (1.1.1)\r\n"
     ]
    }
   ],
   "source": [
    "!pip install jinja2"
   ]
  },
  {
   "cell_type": "code",
   "execution_count": 1,
   "metadata": {},
   "outputs": [],
   "source": [
    "import sys, imp\n",
    "\n",
    "sys.path.append(\"../src/\")\n",
    "\n",
    "from entities import edxl_entity\n",
    "import xml.dom.minidom\n",
    "\n",
    "\n",
    "xml_fname = \"./edxl-de-affaire.test.xml\"\n",
    "dom = xml.dom.minidom.parse(xml_fname) # or xml.dom.minidom.parseString(xml_string)\n",
    "pretty_xml_as_string = dom.toprettyxml()\n",
    "\n",
    "imp.reload(edxl_entity)\n",
    "edxl = edxl_entity.EdxlEntity.from_xml(dom)"
   ]
  },
  {
   "cell_type": "code",
   "execution_count": 2,
   "metadata": {},
   "outputs": [],
   "source": [
    "import lxml.etree"
   ]
  },
  {
   "cell_type": "code",
   "execution_count": 3,
   "metadata": {},
   "outputs": [
    {
     "data": {
      "text/plain": [
       "2020-04-06T12:02:00+00:00"
      ]
     },
     "execution_count": 3,
     "metadata": {},
     "output_type": "execute_result"
    }
   ],
   "source": [
    "edxl.resource.message.sentAt"
   ]
  },
  {
   "cell_type": "code",
   "execution_count": 4,
   "metadata": {},
   "outputs": [],
   "source": [
    "xml_file_path_test = \"/tmp/test.xml\"\n",
    "\n",
    "with open(xml_file_path_test, \"w\") as f :\n",
    "    f.write(edxl.resource.message.to_xml())\n",
    "!code /tmp/test.xml"
   ]
  },
  {
   "cell_type": "code",
   "execution_count": 7,
   "metadata": {},
   "outputs": [],
   "source": [
    "schema_path = \"/home/raphael/PycharmProjects/sapeurs/cisu/src/entities/schema/cisu.xsd\"\n",
    "#xml_file_path = \"/home/raphael/PycharmProjects/sapeurs/cisu/tests/unit/edxl-de-affaire.test.xml\"\n",
    "\n",
    "#xml_file = lxml.etree.fromstring(edxl.resource.message.to_xml())\n",
    "#xml_validator = lxml.etree.XMLSchema(file=schema_path)"
   ]
  },
  {
   "cell_type": "code",
   "execution_count": 10,
   "metadata": {},
   "outputs": [
    {
     "data": {
      "text/plain": [
       "True"
      ]
     },
     "execution_count": 10,
     "metadata": {},
     "output_type": "execute_result"
    }
   ],
   "source": [
    "import xmlschema\n",
    "my_schema = xmlschema.XMLSchema(schema_path)\n"
   ]
  },
  {
   "cell_type": "code",
   "execution_count": null,
   "metadata": {},
   "outputs": [],
   "source": [
    "'2020-04-06 12:02:00+00:00'"
   ]
  },
  {
   "cell_type": "code",
   "execution_count": null,
   "metadata": {},
   "outputs": [],
   "source": [
    "\"\\\\d\\\\d\\\\d\\\\d-\\\\d\\\\d-\\\\d\\\\dT\\\\d\\\\d:\\\\d\\\\d:\\\\d\\\\d[\\\\-+]\\\\d\\\\d:\\\\d\\\\d\""
   ]
  },
  {
   "cell_type": "code",
   "execution_count": 9,
   "metadata": {},
   "outputs": [
    {
     "ename": "NameError",
     "evalue": "name 'xml_validator' is not defined",
     "output_type": "error",
     "traceback": [
      "\u001b[0;31m---------------------------------------------------------------------------\u001b[0m",
      "\u001b[0;31mNameError\u001b[0m                                 Traceback (most recent call last)",
      "\u001b[0;32m<ipython-input-9-3a6ac5599052>\u001b[0m in \u001b[0;36m<module>\u001b[0;34m\u001b[0m\n\u001b[0;32m----> 1\u001b[0;31m \u001b[0mxml_validator\u001b[0m\u001b[0;34m.\u001b[0m\u001b[0mvalidate\u001b[0m\u001b[0;34m(\u001b[0m\u001b[0mxml_file\u001b[0m\u001b[0;34m)\u001b[0m\u001b[0;34m\u001b[0m\u001b[0;34m\u001b[0m\u001b[0m\n\u001b[0m",
      "\u001b[0;31mNameError\u001b[0m: name 'xml_validator' is not defined"
     ]
    }
   ],
   "source": [
    "xml_validator.validate(xml_file)"
   ]
  },
  {
   "cell_type": "code",
   "execution_count": 2,
   "metadata": {},
   "outputs": [
    {
     "data": {
      "text/plain": [
       "True"
      ]
     },
     "execution_count": 2,
     "metadata": {},
     "output_type": "execute_result"
    }
   ],
   "source": [
    "isinstance(edxl.resource.message.recipients, list)"
   ]
  },
  {
   "cell_type": "code",
   "execution_count": 2,
   "metadata": {},
   "outputs": [
    {
     "name": "stdout",
     "output_type": "stream",
     "text": [
      "\u001b[0m\u001b[01;34mapi\u001b[0m/  \u001b[01;34mauth-enki\u001b[0m/  \u001b[01;34mbackend\u001b[0m/  \u001b[01;34mcisu\u001b[0m/  \u001b[01;34metl\u001b[0m/  \u001b[01;34mfronts\u001b[0m/  README.rst\r\n"
     ]
    }
   ],
   "source": [
    "ls ../../"
   ]
  },
  {
   "cell_type": "code",
   "execution_count": 3,
   "metadata": {},
   "outputs": [
    {
     "data": {
      "text/plain": [
       "[RiskThreat(code='R30', label='Patient/Victime blessé', comment='None'),\n",
       " RiskThreat(code='R37', label='Situation instable/indéterminée', comment='None')]"
      ]
     },
     "execution_count": 3,
     "metadata": {},
     "output_type": "execute_result"
    }
   ],
   "source": [
    "edxl.resource.message.choice.primaryAlert.alertCode.riskThreat"
   ]
  },
  {
   "cell_type": "code",
   "execution_count": 7,
   "metadata": {},
   "outputs": [],
   "source": [
    "from jinja2 import Environment, FileSystemLoader\n",
    "env = Environment(loader=FileSystemLoader('../src/templates/'))\n",
    "template = env.get_template('message.xml')"
   ]
  },
  {
   "cell_type": "code",
   "execution_count": 8,
   "metadata": {},
   "outputs": [
    {
     "data": {
      "text/plain": [
       "'<?xml version=\"1.0\" encoding=\"UTF-8\"?>\\n<edxlDistribution xlink:type=\"extended\"\\n                  xmlns=\"urn:oasis:names:tc:emergency:EDXL:DE:2.0\"\\n                  xmlns:xlink=\"http://www.w3.org/1999/xlink\"\\n                  xmlns:ct=\"urn:oasis:names:tc:emergency:edxl:ct:1.0\">\\n  <distributionID>21b36a36-717b-4eba-bbc1-8e027624fe2f</distributionID>\\n  <senderID>cga-pompier-sdis77</senderID>\\n  <dateTimeSent>DateType(value=datetime.datetime(2020, 4, 6, 12, 0, 50, tzinfo=datetime.timezone.utc))</dateTimeSent>\\n  <dateTimeExpires>DateType(value=datetime.datetime(2070, 4, 6, 12, 0, 50, tzinfo=datetime.timezone.utc))</dateTimeExpires>\\n  <distributionStatus>Actual</distributionStatus>\\n  <distributionKind>Report</distributionKind>\\n  <descriptor xlink:type=\"resource\">\\n    <language>fr-FR</language>\\n    <explicitAddress>\\n      <explicitAddressScheme>sge</explicitAddressScheme>\\n        \\n    </explicitAddress>\\n  </descriptor>\\n  <content xlink:type=\"resource\">\\n    <contentObject xlink:type=\"resource\">\\n      <contentXML>\\n        <embeddedXMLContent>\\n          <message xmlns=\"urn:emergency:cisu:2.0\">\\n  \\n  <messageId>111fb03a-6fd9-41e0-8e81-990c45188888</messageId>\\n  <sender>\\n    <name>nexsis_cga_59</name>\\n    <URI>sge:sga_nexsis</URI>\\n  </sender>\\n  <sentAt>2020-04-06T12:02:00+00:00</sentAt>\\n  <msgType>ALERT</msgType>\\n  <status></status>\\n  <recipients>\\n    \\n  </recipients>\\n  <createEvent>\\n    <eventId>111fb03a-6fd9-41e0-8e81-990c45188888</eventId>\\n    <createdAt>DateType(value=datetime.datetime(2020, 4, 6, 12, 2, tzinfo=datetime.timezone.utc))</createdAt>\\n    <severity>SEVERE</severity>\\n    \\n    <eventLocation>\\n      \\n      \\n      <name>Cave à vin Bordeaux</name>\\n      \\n      \\n      <type>POINT</type>\\n      \\n      \\n      \\n      <coord>\\n        <lat>48.868893</lat>\\n        <lon>2.334343</lon>\\n        \\n      </coord>\\n      \\n      <address>2 rue de la poupée qui tousse</address>\\n      \\n      <address>Test commentaire localisation !@#$%^&()`~*</address>\\n      \\n    </eventLocation>\\n    \\n    \\n    <primaryAlert>\\n      <alertId>111fb03a-6fd9-41e0-8e81-990c45188888</alertId>\\n      <receivedAt>ReceivedAt(value=datetime.datetime(2020, 4, 6, 12, 2, tzinfo=datetime.timezone.utc))</receivedAt>\\n      <reporting>STANDARD</reporting>\\n      \\n      <alertInformation>None</alertInformation>\\n      \\n      \\n      <alertLocation>\\n        \\n        \\n        \\n        <type>POINT</type>\\n        \\n        \\n        \\n        <coord>\\n          <lat>48.868893</lat>\\n          <lon>2.334343</lon>\\n          \\n        </coord>\\n        \\n        <address>2 rue de la poupée qui tousse</address>\\n        \\n        <address>Test commentaire localisation !@#$%^&()`~*</address>\\n        \\n      </alertLocation>\\n      \\n      \\n      <call>\\n        \\n        <source>requérant</source>\\n        \\n        \\n        <dialledURI>requérant</dialledURI>\\n        \\n      </call>\\n      \\n      <caller>\\n        <callerURI>tel:+33611223344</callerURI>\\n        \\n        <callbackURI>tel:+33655667788</callbackURI>\\n        \\n        \\n        <spokenLanguage>fr-FR</spokenLanguage>\\n        \\n        \\n        <callerInformation>témoin de l\\'accident</callerInformation>\\n        \\n      </caller>\\n      \\n      <callTaker>\\n        \\n        \\n        \\n      </callTaker>\\n      \\n      <alertCode>\\n        <version>latest</version>\\n        <whatsHappen>\\n          <code>C02.11.01</code>\\n          <label>Atteinte aux personnes|Chute|Chute de grande hauteur</label>\\n          \\n          <comment>Une none est tombée dans l\\'escalier de la Neffe !@#$%^&()`~*</comment>\\n          \\n        </whatsHappen>\\n        \\n        <locationKind>\\n          <code>L04.04.00</code>\\n          <label>Lieu accueillant du public|Lieu de culte</label>\\n          \\n          <comment>None</comment>\\n          \\n        </locationKind>\\n        \\n        \\n        \\n        <riskThreat>\\n          <code>R30</code>\\n          <label>Patient/Victime blessé</label>\\n          \\n          <comment>None</comment>\\n          \\n        </riskThreat>\\n        \\n        <riskThreat>\\n          <code>R37</code>\\n          <label>Situation instable/indéterminée</label>\\n          \\n          <comment>None</comment>\\n          \\n        </riskThreat>\\n        \\n        \\n        \\n        <healthMotive>\\n          <code>M02.07</code>\\n          <label>Traumatisme sérieux, plaie intermédiaire</label>\\n          \\n          <comment>None</comment>\\n          \\n        </healthMotive>\\n        \\n        <victims>\\n          \\n          <count>SEVERAL</count>\\n          \\n          \\n          <mainVictim>PREGNANT</mainVictim>\\n          \\n          \\n          <comment>Une observation de victime !@#$%^&()`~*</comment>\\n          \\n        </victims>\\n      </alertCode>\\n      \\n      \\n      <resource>\\n        <resourceDesc>Photo de l\\'église</resourceDesc>\\n        <mimeType>image/jpeg</mimeType>\\n        \\n        <URI>/9j/4AAQSkZJRgABAQEASABIAAD//gBNRmlsZSBzb3VyY2U6IGh0dHA6Ly9jb21tb25zLndpa2ltZWRpYS5vcmcvd2lraS9GaWxlOkxpbGxlX1N0X21pY2hlbF9sYXQuSlBH/9sAQwAGBAUGBQQGBgUGBwcGCAoQCgoJCQoUDg8MEBcUGBgXFBYWGh0lHxobIxwWFiAsICMmJykqKRkfLTAtKDAlKCko/9sA...</URI>\\n        \\n        <derefURI>/9j/4AAQSkZJRgABAQEASABIAAD//gBNRmlsZSBzb3VyY2U6IGh0dHA6Ly9jb21tb25zLndpa2ltZWRpYS5vcmcvd2lraS9GaWxlOkxpbGxlX1N0X21pY2hlbF9sYXQuSlBH/9sAQwAGBAUGBQQGBgUGBwcGCAoQCgoJCQoUDg8MEBcUGBgXFBYWGh0lHxobIxwWFiAsICMmJykqKRkfLTAtKDAlKCko/9sA...</derefURI>\\n        \\n        \\n        <digest>11F453355B28E1158D4E516A2D3EDF96B3450406</digest>\\n        \\n      </resource>\\n      \\n      \\n    </primaryAlert>\\n  </createEvent>\\n</message>\\n        </embeddedXMLContent>\\n      </contentXML>\\n    </contentObject>\\n  </content>\\n</edxlDistribution>'"
      ]
     },
     "execution_count": 8,
     "metadata": {},
     "output_type": "execute_result"
    }
   ],
   "source": [
    "template.render(edxl = edxl)"
   ]
  },
  {
   "cell_type": "code",
   "execution_count": 25,
   "metadata": {},
   "outputs": [
    {
     "data": {
      "text/plain": [
       "'nexsis_cga_59'"
      ]
     },
     "execution_count": 25,
     "metadata": {},
     "output_type": "execute_result"
    }
   ],
   "source": []
  },
  {
   "cell_type": "code",
   "execution_count": null,
   "metadata": {},
   "outputs": [],
   "source": []
  }
 ],
 "metadata": {
  "kernelspec": {
   "display_name": "Python 3",
   "language": "python",
   "name": "python3"
  },
  "language_info": {
   "codemirror_mode": {
    "name": "ipython",
    "version": 3
   },
   "file_extension": ".py",
   "mimetype": "text/x-python",
   "name": "python",
   "nbconvert_exporter": "python",
   "pygments_lexer": "ipython3",
   "version": "3.8.3"
  }
 },
 "nbformat": 4,
 "nbformat_minor": 4
}
