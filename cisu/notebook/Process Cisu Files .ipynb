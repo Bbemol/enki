{
 "cells": [
  {
   "cell_type": "code",
   "execution_count": 1,
   "metadata": {},
   "outputs": [],
   "source": [
    "import sys, imp\n",
    "\n",
    "sys.path.append(\"../src/\")\n",
    "\n",
    "from entities import edxl_entity\n",
    "import xml.dom.minidom\n",
    "\n",
    "\n",
    "xml_fname = \"./edxl-de-affaire.test.xml\"\n",
    "dom = xml.dom.minidom.parse(xml_fname) # or xml.dom.minidom.parseString(xml_string)\n",
    "pretty_xml_as_string = dom.toprettyxml()\n",
    "\n",
    "imp.reload(edxl_entity)\n",
    "edxl = edxl_entity.EdxlEntity.from_xml(dom)"
   ]
  },
  {
   "cell_type": "code",
   "execution_count": 9,
   "metadata": {},
   "outputs": [
    {
     "data": {
      "text/plain": [
       "<Severity.SEVERE: 3>"
      ]
     },
     "execution_count": 9,
     "metadata": {},
     "output_type": "execute_result"
    }
   ],
   "source": [
    "edxl.resource.message.choice.severity"
   ]
  },
  {
   "cell_type": "code",
   "execution_count": 2,
   "metadata": {},
   "outputs": [],
   "source": [
    "from dateutil import parser"
   ]
  },
  {
   "cell_type": "code",
   "execution_count": 2,
   "metadata": {},
   "outputs": [
    {
     "data": {
      "text/plain": [
       "DateType(value=datetime.datetime(2020, 4, 6, 12, 0, 50, tzinfo=datetime.timezone.utc))"
      ]
     },
     "execution_count": 2,
     "metadata": {},
     "output_type": "execute_result"
    }
   ],
   "source": [
    "edxl.dateTimeSent"
   ]
  },
  {
   "cell_type": "code",
   "execution_count": 9,
   "metadata": {},
   "outputs": [],
   "source": [
    "from enum import Enum\n",
    "class TestEnum(CisuEnum):\n",
    "    SEVERE = 1\n",
    "    UNKNOWN = 2"
   ]
  },
  {
   "cell_type": "code",
   "execution_count": 11,
   "metadata": {},
   "outputs": [
    {
     "data": {
      "text/plain": [
       "[Resource(resourceDesc=\"Photo de l'église\", mimeType='image/jpeg', size=None, URI='/9j/4AAQSkZJRgABAQEASABIAAD//gBNRmlsZSBzb3VyY2U6IGh0dHA6Ly9jb21tb25zLndpa2ltZWRpYS5vcmcvd2lraS9GaWxlOkxpbGxlX1N0X21pY2hlbF9sYXQuSlBH/9sAQwAGBAUGBQQGBgUGBwcGCAoQCgoJCQoUDg8MEBcUGBgXFBYWGh0lHxobIxwWFiAsICMmJykqKRkfLTAtKDAlKCko/9sA...', derefURI='/9j/4AAQSkZJRgABAQEASABIAAD//gBNRmlsZSBzb3VyY2U6IGh0dHA6Ly9jb21tb25zLndpa2ltZWRpYS5vcmcvd2lraS9GaWxlOkxpbGxlX1N0X21pY2hlbF9sYXQuSlBH/9sAQwAGBAUGBQQGBgUGBwcGCAoQCgoJCQoUDg8MEBcUGBgXFBYWGh0lHxobIxwWFiAsICMmJykqKRkfLTAtKDAlKCko/9sA...', digest='11F453355B28E1158D4E516A2D3EDF96B3450406')]"
      ]
     },
     "execution_count": 11,
     "metadata": {},
     "output_type": "execute_result"
    }
   ],
   "source": [
    "edxl.resource.message.choice.primaryAlert.resource"
   ]
  },
  {
   "cell_type": "code",
   "execution_count": 8,
   "metadata": {},
   "outputs": [],
   "source": [
    "class CisuEnum(Enum):\n",
    "    def __str__(self):\n",
    "        return str(self.value)\n",
    "\n",
    "    def value(self):\n",
    "        return str(self.value)\n",
    "\n",
    "    @classmethod\n",
    "    def from_string(cls, value_string):\n",
    "        return cls[value_string]"
   ]
  },
  {
   "cell_type": "code",
   "execution_count": null,
   "metadata": {},
   "outputs": [],
   "source": []
  }
 ],
 "metadata": {
  "kernelspec": {
   "display_name": "Python 3",
   "language": "python",
   "name": "python3"
  },
  "language_info": {
   "codemirror_mode": {
    "name": "ipython",
    "version": 3
   },
   "file_extension": ".py",
   "mimetype": "text/x-python",
   "name": "python",
   "nbconvert_exporter": "python",
   "pygments_lexer": "ipython3",
   "version": "3.8.3"
  }
 },
 "nbformat": 4,
 "nbformat_minor": 4
}
